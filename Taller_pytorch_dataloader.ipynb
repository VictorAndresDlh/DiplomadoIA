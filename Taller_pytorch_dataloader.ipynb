{
 "cells": [
  {
   "cell_type": "markdown",
   "metadata": {
    "id": "6714a557"
   },
   "source": [
    "# <span style=\"color:green\"><center>Diplomado en Inteligencia Artificial y Aprendizaje Profundo</center></span>"
   ]
  },
  {
   "cell_type": "markdown",
   "metadata": {
    "id": "d1ae5dfb"
   },
   "source": [
    "# <span style=\"color:red\"><center>Creación de Datasets  y Dataloaders en Pytorch</center></span>"
   ]
  },
  {
   "cell_type": "markdown",
   "metadata": {
    "id": "ce26e0f8"
   },
   "source": [
    "##   <span style=\"color:blue\">Profesores</span>"
   ]
  },
  {
   "cell_type": "markdown",
   "metadata": {
    "id": "0a834322"
   },
   "source": [
    "- Alvaro Mauricio Montenegro Díaz, ammontenegrod@unal.edu.co\n",
    "- Daniel Mauricio Montenegro Reyes, dextronomo@gmail.com \n",
    "- Campo Elías Pardo Turriago, cepardot@unal.edu.co \n",
    "- Oleg Jarma Montoya, ojarmam@unal.edu.co "
   ]
  },
  {
   "cell_type": "markdown",
   "metadata": {
    "id": "62b472cb"
   },
   "source": [
    "##   <span style=\"color:blue\">Asesora Medios y Marketing digital</span>"
   ]
  },
  {
   "cell_type": "markdown",
   "metadata": {
    "id": "77a0720d"
   },
   "source": [
    "- Maria del Pilar Montenegro, pmontenegro88@gmail.com "
   ]
  },
  {
   "cell_type": "markdown",
   "metadata": {
    "id": "37ec3a64"
   },
   "source": [
    "## **Contenido**\n",
    "\n",
    "* [Introducción](#Introducción)\n",
    "* [Descargar y usar dataset predeterminados](#descargar-y-usar-datasets-predeterminados)\n",
    "* [Cargar datos usando un DataLoader](#Cargar-datos-usando-un-DataLoader)\n",
    "* [Creación de conjuntos personalizados](#Creación-de-conjuntos-personalizados)"
   ]
  },
  {
   "cell_type": "markdown",
   "metadata": {
    "id": "Umx6O7x73Rk9"
   },
   "source": [
    "##   <span style=\"color:blue\">Introducción</span>"
   ]
  },
  {
   "cell_type": "markdown",
   "metadata": {
    "id": "-CPAZpTg3Rk-"
   },
   "source": [
    "inspirado inicialmente en los [tutoriales](https://pytorch.org/tutorials/beginner/basics/data_tutorial.html) de [pytorch](https://pytorch.org/tutorials/beginner/data_loading_tutorial.html)\n",
    "\n",
    "Desarrollar un \"Pipeline\" para el procesamiento de los datos para los modelos es una de las tareas más importantes para obtener un entrenamiento fructífero. El problema proviene de lo diferentes que pueden ser los proyectos y los datos a usar, haciendo cada uno de estos su \"pequeño mundo\".\n",
    "\n",
    "Por suerte, pytorch ofrece una gran cantidad de bases de datos pre procesadas que se pueden descargar y usar de manera casi inmediata.  Y si esto no es suficiente, ofrecen la capacidad de crear clases personalizadas para procesar las bases de datos que se obtengan de manera externa."
   ]
  },
  {
   "cell_type": "markdown",
   "metadata": {
    "id": "gpmrc28O3Rk-"
   },
   "source": [
    "##   <span style=\"color:blue\">Descargar y usar datasets predeterminados.</span>"
   ]
  },
  {
   "cell_type": "markdown",
   "metadata": {
    "id": "ImXVyAlS3Rk_"
   },
   "source": [
    "En los casos introductorios o de exploración básica, es una buena idea utilizar conjuntos de datos reconocidos, con la intención de no perder demasiado tiempo en la ardua tarea del preprocesamiento, además de poder tener puntos de comparación a la hora de comprobar la eficiencia de los modelos. Esto es particularmente verdadero en el campo de visión.\n",
    "\n",
    "Pytorch, específicamente en el paquete \"torchvision\" permite descargar directamente varios de estos conjuntos de datos \"Benchmarks\", para luego usarlos rápida y efectivamente.\n",
    "\n",
    "Para este primer acercamiento, descargaremos y haremos una primera visualización al conjunto de datos [\"Fashion MNIST\"](https://github.com/zalandoresearch/fashion-mnist). Este conjunto consta de *70000* imágenes de *10* diferentes tipos de prendas de vestir. Estas imagenes se encuentras en tonos de grises y tienen un tamaño de 28x28 pixeles. Este conjunto fue hecho con la intención explícita de ser usado como benchmark en los modelos de visión artificial."
   ]
  },
  {
   "cell_type": "code",
   "execution_count": 1,
   "metadata": {
    "id": "V8VDA1Qq3Rk_"
   },
   "outputs": [],
   "source": [
    "import torch\n",
    "from torchvision import datasets\n",
    "from torchvision.transforms import ToTensor\n",
    "import matplotlib.pyplot as plt"
   ]
  },
  {
   "cell_type": "markdown",
   "metadata": {
    "id": "hQaPFY0I3RlA"
   },
   "source": [
    "en la mayoría de casos, los conjuntos de torchvision vienen separados en datos de entrenamiento y datos de prueba, y pueden descargarse y usarse de manera independiente"
   ]
  },
  {
   "cell_type": "code",
   "execution_count": 2,
   "metadata": {
    "colab": {
     "base_uri": "https://localhost:8080/",
     "height": 295,
     "referenced_widgets": [
      "6bcb020061254a35aeae261d2db021bd",
      "556e8311a20743fb9cf46a599e32c43f",
      "7e7df706f26a4c34938b33fc61d2ceb6",
      "b33acc30e5e9461592479b2c4db33fa5",
      "7b9f72eaefc54a45a46310c0252a47dc",
      "c97e5a63b76d44de82ab5f55cb1bbcf0",
      "cde0f53296cf43ef9486c28bf01480c9",
      "13ceb7c9433b481099cdf19453cab711",
      "d37ef25b55994d0ca9dd2261fea31ee3",
      "7545abd2e1e64607a25408c980216d74",
      "c5cbdcc8acb84a769d22078100a2d366",
      "4967a7c13f3c403f94bb21413d9763c0",
      "9a4797fbca1949aea1eba2f4f3b2aad7",
      "03f1dd7101984f50a4d83f05151b9b1b",
      "17e242d896dc4f95b245238b80164a81",
      "448f45af471841ceb77b8800b77cd3e8",
      "eb250d8679a44d26bcd904808074e974",
      "2447af944dd440209cbb7fc83d5deabb",
      "b8411a401dee4420a74fc2bb2c0ed74e",
      "4e6827cacc574568b769a5c1df9997cb",
      "a4c07686ee7047d6a428b2a60d42216b",
      "d9209d782b9744b491ff439df74d4e8b",
      "38618319140b43a5a3db0ed2d64264e4",
      "cde4eda0cd7e4e70ba3a7170131766d0",
      "8d6f530761ef4914a3442b3a4570ba66",
      "685582ff85fb46f18e957445728d4d8f",
      "f3d16fe14ce547cb97bb62186a137674",
      "7cd6a7e1f8d044048a0f847a91f1cfbf",
      "adea564cbcc040bbb2d4e636750c481f",
      "86496fe228464f98b1e6cb2720f4448b",
      "a945929aac9f42c68aabcffbd1b4ac10",
      "9a81974abebc4d049add7d9cb66cb6cb",
      "6ab9ddf546ba43fd8996e3a96e401e3c",
      "624d3151913644afa93a980562658db6",
      "8227c07aea6e4c1f857ab91b560ebabd",
      "36f14daf329c45cdba8937d1fb5b8c3d",
      "bde354e651114071a234322b47746e81",
      "aa47228769244db88334d6df8f5180f0",
      "a6d088ca4d4d42f29bd537af8b72b728",
      "41b324f65e4943e69453782ef5f742c0",
      "175c318f63f547ff9d5f301e21aa2ce7",
      "488ff5e50fdf40a7bc71370737b0b878",
      "4de939ec73ee4c4b902280b75777c1fb",
      "554311ea0e9444fa9fa8ac3445b254e4"
     ]
    },
    "id": "PQCkL_Q73RlA",
    "outputId": "c434bf28-6046-4016-95e7-ecbebb60e8dd"
   },
   "outputs": [
    {
     "name": "stdout",
     "output_type": "stream",
     "text": [
      "Downloading http://fashion-mnist.s3-website.eu-central-1.amazonaws.com/train-images-idx3-ubyte.gz\n",
      "Downloading http://fashion-mnist.s3-website.eu-central-1.amazonaws.com/train-images-idx3-ubyte.gz to .\\FashionMNIST\\raw\\train-images-idx3-ubyte.gz\n"
     ]
    },
    {
     "data": {
      "application/vnd.jupyter.widget-view+json": {
       "model_id": "0d8bbe7c31cd432cb135f593064b183e",
       "version_major": 2,
       "version_minor": 0
      },
      "text/plain": [
       "  0%|          | 0/26421880 [00:00<?, ?it/s]"
      ]
     },
     "metadata": {},
     "output_type": "display_data"
    },
    {
     "name": "stdout",
     "output_type": "stream",
     "text": [
      "Extracting .\\FashionMNIST\\raw\\train-images-idx3-ubyte.gz to .\\FashionMNIST\\raw\n",
      "\n",
      "Downloading http://fashion-mnist.s3-website.eu-central-1.amazonaws.com/train-labels-idx1-ubyte.gz\n",
      "Downloading http://fashion-mnist.s3-website.eu-central-1.amazonaws.com/train-labels-idx1-ubyte.gz to .\\FashionMNIST\\raw\\train-labels-idx1-ubyte.gz\n"
     ]
    },
    {
     "data": {
      "application/vnd.jupyter.widget-view+json": {
       "model_id": "9a2b87aeb03f4a3fbf4fcc29af400ed7",
       "version_major": 2,
       "version_minor": 0
      },
      "text/plain": [
       "  0%|          | 0/29515 [00:00<?, ?it/s]"
      ]
     },
     "metadata": {},
     "output_type": "display_data"
    },
    {
     "name": "stdout",
     "output_type": "stream",
     "text": [
      "Extracting .\\FashionMNIST\\raw\\train-labels-idx1-ubyte.gz to .\\FashionMNIST\\raw\n",
      "\n",
      "Downloading http://fashion-mnist.s3-website.eu-central-1.amazonaws.com/t10k-images-idx3-ubyte.gz\n",
      "Downloading http://fashion-mnist.s3-website.eu-central-1.amazonaws.com/t10k-images-idx3-ubyte.gz to .\\FashionMNIST\\raw\\t10k-images-idx3-ubyte.gz\n"
     ]
    },
    {
     "data": {
      "application/vnd.jupyter.widget-view+json": {
       "model_id": "0636f2a457b24b70bf63d906d414e96b",
       "version_major": 2,
       "version_minor": 0
      },
      "text/plain": [
       "  0%|          | 0/4422102 [00:00<?, ?it/s]"
      ]
     },
     "metadata": {},
     "output_type": "display_data"
    },
    {
     "name": "stdout",
     "output_type": "stream",
     "text": [
      "Extracting .\\FashionMNIST\\raw\\t10k-images-idx3-ubyte.gz to .\\FashionMNIST\\raw\n",
      "\n",
      "Downloading http://fashion-mnist.s3-website.eu-central-1.amazonaws.com/t10k-labels-idx1-ubyte.gz\n",
      "Downloading http://fashion-mnist.s3-website.eu-central-1.amazonaws.com/t10k-labels-idx1-ubyte.gz to .\\FashionMNIST\\raw\\t10k-labels-idx1-ubyte.gz\n"
     ]
    },
    {
     "data": {
      "application/vnd.jupyter.widget-view+json": {
       "model_id": "ed45b9ccc6fe4e608d3f8663c926a726",
       "version_major": 2,
       "version_minor": 0
      },
      "text/plain": [
       "  0%|          | 0/5148 [00:00<?, ?it/s]"
      ]
     },
     "metadata": {},
     "output_type": "display_data"
    },
    {
     "name": "stdout",
     "output_type": "stream",
     "text": [
      "Extracting .\\FashionMNIST\\raw\\t10k-labels-idx1-ubyte.gz to .\\FashionMNIST\\raw\n",
      "\n"
     ]
    }
   ],
   "source": [
    "training_data = datasets.FashionMNIST(\n",
    "    root=\".\",\n",
    "    train=True,\n",
    "    download=True,\n",
    "    transform=ToTensor()\n",
    ")\n",
    "\n",
    "test_data = datasets.FashionMNIST(\n",
    "    root=\".\", #cambiar para computadores personales.\n",
    "    train=False,\n",
    "    download=True,\n",
    "    transform=ToTensor()\n",
    ")"
   ]
  },
  {
   "cell_type": "markdown",
   "metadata": {
    "id": "q-HGzqiv3RlB"
   },
   "source": [
    "Con el conjunto ya descargado y definido como parte de nuestro código, podemos activamente usarlo, como por ejemplo visualizando algunos de los datos."
   ]
  },
  {
   "cell_type": "code",
   "execution_count": 3,
   "metadata": {
    "colab": {
     "base_uri": "https://localhost:8080/",
     "height": 482
    },
    "id": "ColHWdlM3RlB",
    "outputId": "3587f779-91ec-4353-8407-5a0241497933"
   },
   "outputs": [
    {
     "data": {
      "image/png": "[encoded data removed]",
      "text/plain": [
       "<Figure size 576x576 with 9 Axes>"
      ]
     },
     "metadata": {
      "needs_background": "light"
     },
     "output_type": "display_data"
    }
   ],
   "source": [
    "# hacemos un diccionario para reconocer cada etiqueta por su nombre verdadero\n",
    "from matplotlib.pyplot import figure\n",
    "\n",
    "\n",
    "labels_map = {\n",
    "    0: \"Camiseta\",\n",
    "    1: \"Pantalón\",\n",
    "    2: \"Suéter\",\n",
    "    3: \"Vestido\",\n",
    "    4: \"Saco\",\n",
    "    5: \"Sandalia\",\n",
    "    6: \"Camisa\",\n",
    "    7: \"Zapato\",\n",
    "    8: \"Bolsa\",\n",
    "    9: \"Bota\"\n",
    "}\n",
    "\n",
    "#Creamos una \"matriz\" donde se imprimirán las imagenes\n",
    "figure = plt.figure(figsize=(8,8))\n",
    "cols, rows = 3, 3\n",
    "for i in range(1, cols*rows+1):\n",
    "    sample_idx = torch.randint(len(training_data), size=(1,)).item()\n",
    "    img, label = training_data[sample_idx]  # type: ignore\n",
    "    figure.add_subplot(rows, cols, i)\n",
    "    plt.title(labels_map[label])\n",
    "    plt.axis(\"off\")\n",
    "    plt.imshow(img.squeeze(), cmap=\"gray\")\n",
    "    "
   ]
  },
  {
   "cell_type": "markdown",
   "metadata": {
    "id": "cdm1Rwkt3RlC"
   },
   "source": [
    "##   <span style=\"color:blue\">Cargar datos usando un DataLoader</span>"
   ]
  },
  {
   "cell_type": "markdown",
   "metadata": {
    "id": "dwk24b1O3RlC"
   },
   "source": [
    "Con el conjunto listo es hora de cargar los datos al modelo para que pueda entrenar usando estos. Esto lo logramos usando la función `torch.utils.data.DataLoader`. Esta función envuelve los datos en un iterador para  poder acceder de manera fácil y rápida a los datos."
   ]
  },
  {
   "cell_type": "code",
   "execution_count": 4,
   "metadata": {
    "id": "63Shw8pt3RlC"
   },
   "outputs": [],
   "source": [
    "from torch.utils.data import DataLoader"
   ]
  },
  {
   "cell_type": "code",
   "execution_count": 5,
   "metadata": {
    "id": "w5wDLIyV3RlC"
   },
   "outputs": [],
   "source": [
    "train_loader = DataLoader(\n",
    "    dataset=training_data, #dataset de donde vamos a cargar los datos\n",
    "    batch_size=64, #número de muestras usadas en una iteración\n",
    "    shuffle=True, #se decide si se aleatoriza el orden de los datos en las muestras\n",
    "    num_workers=0, #permite que se hagan múltiples procesos a la vez\n",
    "    collate_fn=None, #se usa si se quiere concatenar los datos\n",
    "    pin_memory=False #Decidir si se quieren cargar los datos en la GPU\n",
    ")\n",
    "\n",
    "test_loader = DataLoader(\n",
    "    test_data,\n",
    "    batch_size=64,\n",
    "    shuffle=False\n",
    ")"
   ]
  },
  {
   "cell_type": "markdown",
   "metadata": {
    "id": "JY648PQB3RlC"
   },
   "source": [
    "Ahora podemos usar el dataloader para iterar sobre los datos. Cada iteración retorna un lote del tamaño específicado de duplas (`train_features`, `train_labels`). Debido a que definimos `shuffle=True` todos los lotes van a mezclarse."
   ]
  },
  {
   "cell_type": "code",
   "execution_count": 6,
   "metadata": {
    "colab": {
     "base_uri": "https://localhost:8080/",
     "height": 317
    },
    "id": "WmlvsIME3RlD",
    "outputId": "5ed5c3d3-9abc-4bde-d83c-326e0b09bd88"
   },
   "outputs": [
    {
     "name": "stdout",
     "output_type": "stream",
     "text": [
      "forma del lote de características: torch.Size([64, 1, 28, 28])\n",
      "forma del lote de las etiquetas: torch.Size([64])\n"
     ]
    },
    {
     "data": {
      "image/png": "[encoded data removed]",
      "text/plain": [
       "<Figure size 432x288 with 1 Axes>"
      ]
     },
     "metadata": {
      "needs_background": "light"
     },
     "output_type": "display_data"
    },
    {
     "name": "stdout",
     "output_type": "stream",
     "text": [
      "Etiqueta: 9\n"
     ]
    }
   ],
   "source": [
    "train_features, train_labels = next(iter(train_loader))\n",
    "print(f'forma del lote de características: {train_features.size()}')\n",
    "print(f'forma del lote de las etiquetas: {train_labels.size()}')\n",
    "\n",
    "img = train_features[0].squeeze()\n",
    "label = train_labels[0]\n",
    "plt.imshow(img, cmap='gray')\n",
    "plt.show()\n",
    "print(f'Etiqueta: {label}')"
   ]
  },
  {
   "cell_type": "markdown",
   "metadata": {
    "id": "BvX4TV5y3RlD"
   },
   "source": [
    "##   <span style=\"color:blue\">Creación de conjuntos personalizados</span>"
   ]
  },
  {
   "cell_type": "markdown",
   "metadata": {
    "id": "cu4wp2Bo3RlD"
   },
   "source": [
    "Por supuesto, vamos a querer traer nuestros propios datos y poder cargarlos apropiadamente, pero esto puede ser complicado dependiendo de la forma que estas estén organizadas. Para estos casos, podemos hacer nuestra propia clase para crear el conjunto de datos y luego cargarlos de igual manera."
   ]
  },
  {
   "cell_type": "code",
   "execution_count": 7,
   "metadata": {
    "id": "LJi-UZTk3RlD"
   },
   "outputs": [],
   "source": [
    "import os\n",
    "import pandas as pd\n",
    "from torchvision.io import read_image"
   ]
  },
  {
   "cell_type": "code",
   "execution_count": 10,
   "metadata": {},
   "outputs": [
    {
     "name": "stdout",
     "output_type": "stream",
     "text": [
      "Collecting package metadata (current_repodata.json): ...working... done\n",
      "Solving environment: ...working... done\n",
      "\n",
      "## Package Plan ##\n",
      "\n",
      "  environment location: C:\\Anaconda\n",
      "\n",
      "  added / updated specs:\n",
      "    - wget\n",
      "\n",
      "\n",
      "The following packages will be downloaded:\n",
      "\n",
      "    package                    |            build\n",
      "    ---------------------------|-----------------\n",
      "    wget-1.16.3                |                0         1.4 MB  menpo\n",
      "    ------------------------------------------------------------\n",
      "                                           Total:         1.4 MB\n",
      "\n",
      "The following NEW packages will be INSTALLED:\n",
      "\n",
      "  wget               menpo/win-64::wget-1.16.3-0\n",
      "\n",
      "\n",
      "\n",
      "Downloading and Extracting Packages\n",
      "\n",
      "wget-1.16.3          | 1.4 MB    |            |   0% \n",
      "wget-1.16.3          | 1.4 MB    | ########## | 100% \n",
      "wget-1.16.3          | 1.4 MB    | ########## | 100% \n",
      "Preparing transaction: ...working... done\n",
      "Verifying transaction: ...working... done\n",
      "Executing transaction: ...working... done\n",
      "Retrieving notices: ...working... done\n"
     ]
    }
   ],
   "source": [
    "import sys\n",
    "!conda install --yes --prefix {sys.prefix} -c menpo wget"
   ]
  },
  {
   "cell_type": "markdown",
   "metadata": {
    "id": "b0g84bPA3RlD"
   },
   "source": [
    "Vamos a utilizar el conjunto de datos \"MNIST\": Un conjunto de digitos escritos a mano."
   ]
  },
  {
   "cell_type": "code",
   "execution_count": 11,
   "metadata": {
    "colab": {
     "base_uri": "https://localhost:8080/"
    },
    "id": "75AchKWC3RlD",
    "outputId": "1173272d-db48-44c5-c520-7426ffdbc22d"
   },
   "outputs": [
    {
     "name": "stderr",
     "output_type": "stream",
     "text": [
      "--2022-08-20 11:16:42--  http://yann.lecun.com/exdb/mnist/train-images-idx3-ubyte.gz\n",
      "Resolving yann.lecun.com (yann.lecun.com)... 172.67.171.76, 104.21.29.36\n",
      "Connecting to yann.lecun.com (yann.lecun.com)|172.67.171.76|:80... connected.\n",
      "HTTP request sent, awaiting response... 200 OK\n",
      "Length: 9912422 (9.5M) [application/x-gzip]\n",
      "Saving to: 'train-images-idx3-ubyte.gz'\n",
      "\n",
      "     0K .......... .......... .......... .......... ..........  0% 1.78M 5s\n",
      "    50K .......... .......... .......... .......... ..........  1% 59.7M 3s\n",
      "   100K .......... .......... .......... .......... ..........  1% 40.7M 2s\n",
      "   150K .......... .......... .......... .......... ..........  2%  153M 1s\n",
      "   200K .......... .......... .......... .......... ..........  2% 8.00M 1s\n",
      "   250K .......... .......... .......... .......... ..........  3% 2.89M 2s\n",
      "   300K .......... .......... .......... .......... ..........  3% 9.65M 2s\n",
      "   350K .......... .......... .......... .......... ..........  4% 6.26M 2s\n",
      "   400K .......... .......... .......... .......... ..........  4%  109M 1s\n",
      "   450K .......... .......... .......... .......... ..........  5% 6.67M 1s\n",
      "   500K .......... .......... .......... .......... ..........  5%  115M 1s\n",
      "   550K .......... .......... .......... .......... ..........  6% 7.69M 1s\n",
      "   600K .......... .......... .......... .......... ..........  6% 11.0M 1s\n",
      "   650K .......... .......... .......... .......... ..........  7%  136M 1s\n",
      "   700K .......... .......... .......... .......... ..........  7%  819K 2s\n",
      "   750K .......... .......... .......... .......... ..........  8% 11.1M 2s\n",
      "   800K .......... .......... .......... .......... ..........  8% 32.4M 2s\n",
      "   850K .......... .......... .......... .......... ..........  9% 34.2M 1s\n",
      "   900K .......... .......... .......... .......... ..........  9% 57.1M 1s\n",
      "   950K .......... .......... .......... .......... .......... 10% 32.8M 1s\n",
      "  1000K .......... .......... .......... .......... .......... 10% 30.1M 1s\n",
      "  1050K .......... .......... .......... .......... .......... 11% 32.2M 1s\n",
      "  1100K .......... .......... .......... .......... .......... 11% 37.0M 1s\n",
      "  1150K .......... .......... .......... .......... .......... 12% 35.6M 1s\n",
      "  1200K .......... .......... .......... .......... .......... 12% 46.1M 1s\n",
      "  1250K .......... .......... .......... .......... .......... 13% 23.4M 1s\n",
      "  1300K .......... .......... .......... .......... .......... 13% 51.0M 1s\n",
      "  1350K .......... .......... .......... .......... .......... 14% 32.1M 1s\n",
      "  1400K .......... .......... .......... .......... .......... 14% 58.7M 1s\n",
      "  1450K .......... .......... .......... .......... .......... 15% 49.2M 1s\n",
      "  1500K .......... .......... .......... .......... .......... 16% 65.7M 1s\n",
      "  1550K .......... .......... .......... .......... .......... 16% 50.8M 1s\n",
      "  1600K .......... .......... .......... .......... .......... 17%  734K 1s\n",
      "  1650K .......... .......... .......... .......... .......... 17% 11.1M 1s\n",
      "  1700K .......... .......... .......... .......... .......... 18% 6.20M 1s\n",
      "  1750K .......... .......... .......... .......... .......... 18% 67.7M 1s\n",
      "  1800K .......... .......... .......... .......... .......... 19% 2.46M 1s\n",
      "  1850K .......... .......... .......... .......... .......... 19% 18.4M 1s\n",
      "  1900K .......... .......... .......... .......... .......... 20% 7.43M 1s\n",
      "  1950K .......... .......... .......... .......... .......... 20% 77.9M 1s\n",
      "  2000K .......... .......... .......... .......... .......... 21%  100M 1s\n",
      "  2050K .......... .......... .......... .......... .......... 21% 98.0M 1s\n",
      "  2100K .......... .......... .......... .......... .......... 22% 81.2M 1s\n",
      "  2150K .......... .......... .......... .......... .......... 22%  155M 1s\n",
      "  2200K .......... .......... .......... .......... .......... 23%  108M 1s\n",
      "  2250K .......... .......... .......... .......... .......... 23%  118M 1s\n",
      "  2300K .......... .......... .......... .......... .......... 24% 79.0M 1s\n",
      "  2350K .......... .......... .......... .......... .......... 24%  245M 1s\n",
      "  2400K .......... .......... .......... .......... .......... 25% 19.6M 1s\n",
      "  2450K .......... .......... .......... .......... .......... 25% 19.3M 1s\n",
      "  2500K .......... .......... .......... .......... .......... 26% 9.13M 1s\n",
      "  2550K .......... .......... .......... .......... .......... 26%  129M 1s\n",
      "  2600K .......... .......... .......... .......... .......... 27% 81.5M 1s\n",
      "  2650K .......... .......... .......... .......... .......... 27% 8.82M 1s\n",
      "  2700K .......... .......... .......... .......... .......... 28% 42.3M 1s\n",
      "  2750K .......... .......... .......... .......... .......... 28% 11.3M 1s\n",
      "  2800K .......... .......... .......... .......... .......... 29% 10.1M 1s\n",
      "  2850K .......... .......... .......... .......... .......... 29% 14.4M 1s\n",
      "  2900K .......... .......... .......... .......... .......... 30%  106M 1s\n",
      "  2950K .......... .......... .......... .......... .......... 30% 12.1M 1s\n",
      "  3000K .......... .......... .......... .......... .......... 31% 27.6M 1s\n",
      "  3050K .......... .......... .......... .......... .......... 32% 6.06M 1s\n",
      "  3100K .......... .......... .......... .......... .......... 32% 79.4M 1s\n",
      "  3150K .......... .......... .......... .......... .......... 33% 26.1M 1s\n",
      "  3200K .......... .......... .......... .......... .......... 33% 8.61M 1s\n",
      "  3250K .......... .......... .......... .......... .......... 34% 55.8M 1s\n",
      "  3300K .......... .......... .......... .......... .......... 34% 11.3M 1s\n",
      "  3350K .......... .......... .......... .......... .......... 35% 62.3M 1s\n",
      "  3400K .......... .......... .......... .......... .......... 35% 96.7M 1s\n",
      "  3450K .......... .......... .......... .......... .......... 36% 25.5M 1s\n",
      "  3500K .......... .......... .......... .......... .......... 36% 17.1M 1s\n",
      "  3550K .......... .......... .......... .......... .......... 37% 2.46M 1s\n",
      "  3600K .......... .......... .......... .......... .......... 37% 92.5M 1s\n",
      "  3650K .......... .......... .......... .......... .......... 38% 28.2M 1s\n",
      "  3700K .......... .......... .......... .......... .......... 38% 61.6M 1s\n",
      "  3750K .......... .......... .......... .......... .......... 39%  488K 1s\n",
      "  3800K .......... .......... .......... .......... .......... 39% 10.8M 1s\n",
      "  3850K .......... .......... .......... .......... .......... 40% 21.6M 1s\n",
      "  3900K .......... .......... .......... .......... .......... 40% 23.0M 1s\n",
      "  3950K .......... .......... .......... .......... .......... 41% 61.7M 1s\n",
      "  4000K .......... .......... .......... .......... .......... 41% 56.1M 1s\n",
      "  4050K .......... .......... .......... .......... .......... 42% 9.73M 1s\n",
      "  4100K .......... .......... .......... .......... .......... 42% 12.7M 1s\n",
      "  4150K .......... .......... .......... .......... .......... 43% 33.7M 1s\n",
      "  4200K .......... .......... .......... .......... .......... 43%  115M 1s\n",
      "  4250K .......... .......... .......... .......... .......... 44%  109M 1s\n",
      "  4300K .......... .......... .......... .......... .......... 44%  222M 1s\n",
      "  4350K .......... .......... .......... .......... .......... 45%  125M 1s\n",
      "  4400K .......... .......... .......... .......... .......... 45%  153M 1s\n",
      "  4450K .......... .......... .......... .......... .......... 46%  110M 1s\n",
      "  4500K .......... .......... .......... .......... .......... 47%  172M 1s\n",
      "  4550K .......... .......... .......... .......... .......... 47%  159M 1s\n",
      "  4600K .......... .......... .......... .......... .......... 48%  141M 1s\n",
      "  4650K .......... .......... .......... .......... .......... 48%  114M 1s\n",
      "  4700K .......... .......... .......... .......... .......... 49%  150M 1s\n",
      "  4750K .......... .......... .......... .......... .......... 49%  225M 1s\n",
      "  4800K .......... .......... .......... .......... .......... 50%  146M 0s\n",
      "  4850K .......... .......... .......... .......... .......... 50%  118M 0s\n",
      "  4900K .......... .......... .......... .......... .......... 51%  137M 0s\n",
      "  4950K .......... .......... .......... .......... .......... 51%  236M 0s\n",
      "  5000K .......... .......... .......... .......... .......... 52% 83.1M 0s\n",
      "  5050K .......... .......... .......... .......... .......... 52%  105M 0s\n",
      "  5100K .......... .......... .......... .......... .......... 53% 8.71M 0s\n",
      "  5150K .......... .......... .......... .......... .......... 53% 17.6M 0s\n",
      "  5200K .......... .......... .......... .......... .......... 54% 11.4M 0s\n",
      "  5250K .......... .......... .......... .......... .......... 54% 15.9M 0s\n",
      "  5300K .......... .......... .......... .......... .......... 55% 21.4M 0s\n",
      "  5350K .......... .......... .......... .......... .......... 55% 16.0M 0s\n",
      "  5400K .......... .......... .......... .......... .......... 56% 14.0M 0s\n",
      "  5450K .......... .......... .......... .......... .......... 56% 21.6M 0s\n",
      "  5500K .......... .......... .......... .......... .......... 57% 13.7M 0s\n",
      "  5550K .......... .......... .......... .......... .......... 57% 4.32M 0s\n",
      "  5600K .......... .......... .......... .......... .......... 58% 19.6M 0s\n",
      "  5650K .......... .......... .......... .......... .......... 58% 38.6M 0s\n",
      "  5700K .......... .......... .......... .......... .......... 59% 21.4M 0s\n",
      "  5750K .......... .......... .......... .......... .......... 59% 14.9M 0s\n",
      "  5800K .......... .......... .......... .......... .......... 60% 11.1M 0s\n",
      "  5850K .......... .......... .......... .......... .......... 60% 22.3M 0s\n",
      "  5900K .......... .......... .......... .......... .......... 61% 19.0M 0s\n",
      "  5950K .......... .......... .......... .......... .......... 61% 8.00M 0s\n",
      "  6000K .......... .......... .......... .......... .......... 62% 94.7M 0s\n",
      "  6050K .......... .......... .......... .......... .......... 63% 34.7M 0s\n",
      "  6100K .......... .......... .......... .......... .......... 63%  520K 0s\n",
      "  6150K .......... .......... .......... .......... .......... 64% 13.8M 0s\n",
      "  6200K .......... .......... .......... .......... .......... 64% 2.38M 0s\n",
      "  6250K .......... .......... .......... .......... .......... 65% 8.81M 0s\n",
      "  6300K .......... .......... .......... .......... .......... 65% 17.5M 0s\n",
      "  6350K .......... .......... .......... .......... .......... 66% 34.0M 0s\n",
      "  6400K .......... .......... .......... .......... .......... 66% 24.3M 0s\n",
      "  6450K .......... .......... .......... .......... .......... 67% 19.3M 0s\n",
      "  6500K .......... .......... .......... .......... .......... 67% 35.8M 0s\n",
      "  6550K .......... .......... .......... .......... .......... 68% 28.1M 0s\n",
      "  6600K .......... .......... .......... .......... .......... 68% 22.5M 0s\n",
      "  6650K .......... .......... .......... .......... .......... 69% 21.8M 0s\n",
      "  6700K .......... .......... .......... .......... .......... 69% 36.2M 0s\n",
      "  6750K .......... .......... .......... .......... .......... 70% 47.2M 0s\n",
      "  6800K .......... .......... .......... .......... .......... 70% 51.9M 0s\n",
      "  6850K .......... .......... .......... .......... .......... 71% 47.0M 0s\n",
      "  6900K .......... .......... .......... .......... .......... 71% 43.1M 0s\n",
      "  6950K .......... .......... .......... .......... .......... 72% 49.6M 0s\n",
      "  7000K .......... .......... .......... .......... .......... 72%  104M 0s\n",
      "  7050K .......... .......... .......... .......... .......... 73% 42.4M 0s\n",
      "  7100K .......... .......... .......... .......... .......... 73% 69.2M 0s\n",
      "  7150K .......... .......... .......... .......... .......... 74% 70.1M 0s\n",
      "  7200K .......... .......... .......... .......... .......... 74% 16.6M 0s\n",
      "  7250K .......... .......... .......... .......... .......... 75% 23.0M 0s\n",
      "  7300K .......... .......... .......... .......... .......... 75% 14.5M 0s\n",
      "  7350K .......... .......... .......... .......... .......... 76% 16.1M 0s\n",
      "  7400K .......... .......... .......... .......... .......... 76% 23.0M 0s\n",
      "  7450K .......... .......... .......... .......... .......... 77% 17.1M 0s\n",
      "  7500K .......... .......... .......... .......... .......... 77% 14.1M 0s\n",
      "  7550K .......... .......... .......... .......... .......... 78% 12.4M 0s\n",
      "  7600K .......... .......... .......... .......... .......... 79% 20.5M 0s\n",
      "  7650K .......... .......... .......... .......... .......... 79% 11.6M 0s\n",
      "  7700K .......... .......... .......... .......... .......... 80% 16.1M 0s\n",
      "  7750K .......... .......... .......... .......... .......... 80% 13.5M 0s\n",
      "  7800K .......... .......... .......... .......... .......... 81% 12.0M 0s\n",
      "  7850K .......... .......... .......... .......... .......... 81% 9.10M 0s\n",
      "  7900K .......... .......... .......... .......... .......... 82% 6.26M 0s\n"
     ]
    },
    {
     "name": "stderr",
     "output_type": "stream",
     "text": [
      "  7950K .......... .......... .......... .......... .......... 82% 21.2M 0s\n",
      "  8000K .......... .......... .......... .......... .......... 83% 16.8M 0s\n",
      "  8050K .......... .......... .......... .......... .......... 83% 20.5M 0s\n",
      "  8100K .......... .......... .......... .......... .......... 84% 21.0M 0s\n",
      "  8150K .......... .......... .......... .......... .......... 84% 13.0M 0s\n",
      "  8200K .......... .......... .......... .......... .......... 85% 15.9M 0s\n",
      "  8250K .......... .......... .......... .......... .......... 85% 15.8M 0s\n",
      "  8300K .......... .......... .......... .......... .......... 86% 23.8M 0s\n",
      "  8350K .......... .......... .......... .......... .......... 86% 17.1M 0s\n",
      "  8400K .......... .......... .......... .......... .......... 87% 13.8M 0s\n",
      "  8450K .......... .......... .......... .......... .......... 87% 34.6M 0s\n",
      "  8500K .......... .......... .......... .......... .......... 88% 12.1M 0s\n",
      "  8550K .......... .......... .......... .......... .......... 88% 10.9M 0s\n",
      "  8600K .......... .......... .......... .......... .......... 89% 15.2M 0s\n",
      "  8650K .......... .......... .......... .......... .......... 89% 14.3M 0s\n",
      "  8700K .......... .......... .......... .......... .......... 90% 13.5M 0s\n",
      "  8750K .......... .......... .......... .......... .......... 90% 12.3M 0s\n",
      "  8800K .......... .......... .......... .......... .......... 91% 16.0M 0s\n",
      "  8850K .......... .......... .......... .......... .......... 91% 13.7M 0s\n",
      "  8900K .......... .......... .......... .......... .......... 92% 15.5M 0s\n",
      "  8950K .......... .......... .......... .......... .......... 92% 11.9M 0s\n",
      "  9000K .......... .......... .......... .......... .......... 93% 9.97M 0s\n",
      "  9050K .......... .......... .......... .......... .......... 94% 11.5M 0s\n",
      "  9100K .......... .......... .......... .......... .......... 94% 22.6M 0s\n",
      "  9150K .......... .......... .......... .......... .......... 95% 14.9M 0s\n",
      "  9200K .......... .......... .......... .......... .......... 95% 12.5M 0s\n",
      "  9250K .......... .......... .......... .......... .......... 96% 7.53M 0s\n",
      "  9300K .......... .......... .......... .......... .......... 96% 25.8M 0s\n",
      "  9350K .......... .......... .......... .......... .......... 97% 12.4M 0s\n",
      "  9400K .......... .......... .......... .......... .......... 97% 16.1M 0s\n",
      "  9450K .......... .......... .......... .......... .......... 98% 11.9M 0s\n",
      "  9500K .......... .......... .......... .......... .......... 98% 26.6M 0s\n",
      "  9550K .......... .......... .......... .......... .......... 99% 16.1M 0s\n",
      "  9600K .......... .......... .......... .......... .......... 99% 22.1M 0s\n",
      "  9650K .......... .......... ..........                      100% 13.4M=0.9s\n",
      "\n",
      "2022-08-20 11:16:44 (10.6 MB/s) - 'train-images-idx3-ubyte.gz' saved [9912422/9912422]\n",
      "\n",
      "http://#-P: Invalid host name.\n",
      "/mnt/storage/Datasets: Scheme missing.\n",
      "FINISHED --2022-08-20 11:16:44--\n",
      "Total wall clock time: 1.2s\n",
      "Downloaded: 1 files, 9.5M in 0.9s (10.6 MB/s)\n",
      "--2022-08-20 11:16:44--  http://yann.lecun.com/exdb/mnist/train-labels-idx1-ubyte.gz\n",
      "Resolving yann.lecun.com (yann.lecun.com)... 172.67.171.76, 104.21.29.36\n",
      "Connecting to yann.lecun.com (yann.lecun.com)|172.67.171.76|:80... connected.\n",
      "HTTP request sent, awaiting response... 200 OK\n",
      "Length: 28881 (28K) [application/x-gzip]\n",
      "Saving to: 'train-labels-idx1-ubyte.gz'\n",
      "\n",
      "     0K .......... .......... ........                        100% 2.55M=0.01s\n",
      "\n",
      "2022-08-20 11:16:44 (2.55 MB/s) - 'train-labels-idx1-ubyte.gz' saved [28881/28881]\n",
      "\n",
      "http://#-P: Invalid host name.\n",
      "/mnt/storage/Datasets: Scheme missing.\n",
      "FINISHED --2022-08-20 11:16:44--\n",
      "Total wall clock time: 0.3s\n",
      "Downloaded: 1 files, 28K in 0.01s (2.55 MB/s)\n",
      "--2022-08-20 11:16:44--  http://yann.lecun.com/exdb/mnist/t10k-images-idx3-ubyte.gz\n",
      "Resolving yann.lecun.com (yann.lecun.com)... 172.67.171.76, 104.21.29.36\n",
      "Connecting to yann.lecun.com (yann.lecun.com)|172.67.171.76|:80... connected.\n",
      "HTTP request sent, awaiting response... 200 OK\n",
      "Length: 1648877 (1.6M) [application/x-gzip]\n",
      "Saving to: 't10k-images-idx3-ubyte.gz'\n",
      "\n",
      "     0K .......... .......... .......... .......... ..........  3% 2.26M 1s\n",
      "    50K .......... .......... .......... .......... ..........  6% 41.0M 0s\n",
      "   100K .......... .......... .......... .......... ..........  9% 42.7M 0s\n",
      "   150K .......... .......... .......... .......... .......... 12% 23.4M 0s\n",
      "   200K .......... .......... .......... .......... .......... 15% 12.5M 0s\n",
      "   250K .......... .......... .......... .......... .......... 18% 1.51M 0s\n",
      "   300K .......... .......... .......... .......... .......... 21% 13.7M 0s\n",
      "   350K .......... .......... .......... .......... .......... 24% 10.7M 0s\n",
      "   400K .......... .......... .......... .......... .......... 27% 13.7M 0s\n",
      "   450K .......... .......... .......... .......... .......... 31% 4.02M 0s\n",
      "   500K .......... .......... .......... .......... .......... 34% 1.77M 0s\n",
      "   550K .......... .......... .......... .......... .......... 37% 10.7M 0s\n",
      "   600K .......... .......... .......... .......... .......... 40% 6.58M 0s\n",
      "   650K .......... .......... .......... .......... .......... 43% 19.4M 0s\n",
      "   700K .......... .......... .......... .......... .......... 46% 20.8M 0s\n",
      "   750K .......... .......... .......... .......... .......... 49% 10.1M 0s\n",
      "   800K .......... .......... .......... .......... .......... 52% 14.3M 0s\n",
      "   850K .......... .......... .......... .......... .......... 55% 25.5M 0s\n",
      "   900K .......... .......... .......... .......... .......... 58% 17.2M 0s\n",
      "   950K .......... .......... .......... .......... .......... 62% 19.1M 0s\n",
      "  1000K .......... .......... .......... .......... .......... 65% 12.4M 0s\n",
      "  1050K .......... .......... .......... .......... .......... 68% 10.6M 0s\n",
      "  1100K .......... .......... .......... .......... .......... 71% 28.1M 0s\n",
      "  1150K .......... .......... .......... .......... .......... 74% 2.71M 0s\n",
      "  1200K .......... .......... .......... .......... .......... 77% 23.1M 0s\n",
      "  1250K .......... .......... .......... .......... .......... 80% 9.00M 0s\n",
      "  1300K .......... .......... .......... .......... .......... 83% 13.6M 0s\n",
      "  1350K .......... .......... .......... .......... .......... 86% 21.7M 0s\n",
      "  1400K .......... .......... .......... .......... .......... 90% 17.2M 0s\n",
      "  1450K .......... .......... .......... .......... .......... 93% 16.9M 0s\n",
      "  1500K .......... .......... .......... .......... .......... 96% 7.75M 0s\n",
      "  1550K .......... .......... .......... .......... .......... 99% 20.0M 0s\n",
      "  1600K ..........                                            100% 2.33M=0.2s\n",
      "\n",
      "2022-08-20 11:16:45 (7.62 MB/s) - 't10k-images-idx3-ubyte.gz' saved [1648877/1648877]\n",
      "\n",
      "http://#-P: Invalid host name.\n",
      "/mnt/storage/Datasets: Scheme missing.\n",
      "FINISHED --2022-08-20 11:16:45--\n",
      "Total wall clock time: 0.5s\n",
      "Downloaded: 1 files, 1.6M in 0.2s (7.62 MB/s)\n",
      "--2022-08-20 11:16:45--  http://yann.lecun.com/exdb/mnist/t10k-labels-idx1-ubyte.gz\n",
      "Resolving yann.lecun.com (yann.lecun.com)... 172.67.171.76, 104.21.29.36\n",
      "Connecting to yann.lecun.com (yann.lecun.com)|172.67.171.76|:80... connected.\n",
      "HTTP request sent, awaiting response... 200 OK\n",
      "Length: 4542 (4.4K) [application/x-gzip]\n",
      "Saving to: 't10k-labels-idx1-ubyte.gz'\n",
      "\n",
      "     0K ....                                                  100% 16.3M=0s\n",
      "\n",
      "2022-08-20 11:16:45 (16.3 MB/s) - 't10k-labels-idx1-ubyte.gz' saved [4542/4542]\n",
      "\n",
      "http://#-P: Invalid host name.\n",
      "/mnt/storage/Datasets: Scheme missing.\n",
      "FINISHED --2022-08-20 11:16:45--\n",
      "Total wall clock time: 0.3s\n",
      "Downloaded: 1 files, 4.4K in 0s (16.3 MB/s)\n"
     ]
    }
   ],
   "source": [
    "!wget http://yann.lecun.com/exdb/mnist/train-images-idx3-ubyte.gz #-P /mnt/storage/Datasets\n",
    "!wget http://yann.lecun.com/exdb/mnist/train-labels-idx1-ubyte.gz #-P /mnt/storage/Datasets\n",
    "!wget http://yann.lecun.com/exdb/mnist/t10k-images-idx3-ubyte.gz #-P /mnt/storage/Datasets\n",
    "!wget http://yann.lecun.com/exdb/mnist/t10k-labels-idx1-ubyte.gz #-P /mnt/storage/Datasets"
   ]
  },
  {
   "cell_type": "markdown",
   "metadata": {
    "id": "IkAW45Yh3RlE"
   },
   "source": [
    "Revisamos los datos y los adaptamos depende a su contexto"
   ]
  },
  {
   "cell_type": "code",
   "execution_count": 12,
   "metadata": {
    "colab": {
     "base_uri": "https://localhost:8080/",
     "height": 282
    },
    "id": "qHb3m9rN3RlE",
    "outputId": "c829c238-8ef3-43fc-bef4-df650f207eab"
   },
   "outputs": [
    {
     "name": "stdout",
     "output_type": "stream",
     "text": [
      "(60000, 28, 28, 1)\n"
     ]
    },
    {
     "data": {
      "image/png": "[encoded data removed]",
      "text/plain": [
       "<Figure size 432x288 with 1 Axes>"
      ]
     },
     "metadata": {
      "needs_background": "light"
     },
     "output_type": "display_data"
    }
   ],
   "source": [
    "## imagenes de entrenamiento\n",
    "\n",
    "import gzip\n",
    "\n",
    "f = gzip.open('train-images-idx3-ubyte.gz', 'r')\n",
    "\n",
    "image_size = 28\n",
    "\n",
    "num_images = 60000\n",
    "\n",
    "import numpy as np\n",
    "\n",
    "f.read(16)\n",
    "buf = f.read(image_size*image_size*num_images)\n",
    "data_train = np.frombuffer(buf, dtype=np.uint8).astype(np.float32)\n",
    "\n",
    "data_train = data_train.reshape(num_images, image_size, image_size, 1)\n",
    "print(data_train.shape)\n",
    "image = np.asarray(data_train[0]).squeeze()\n",
    "plt.imshow(image)\n",
    "plt.show()"
   ]
  },
  {
   "cell_type": "code",
   "execution_count": 13,
   "metadata": {
    "colab": {
     "base_uri": "https://localhost:8080/"
    },
    "id": "E3GtGAxz3RlE",
    "outputId": "8da26936-c878-4e50-e6b6-78bddae53df8"
   },
   "outputs": [
    {
     "name": "stdout",
     "output_type": "stream",
     "text": [
      "(60000,)\n",
      "[5. 0. 4. 1. 9. 2. 1. 3. 1. 4. 3. 5. 3. 6. 1. 7. 2. 8. 6. 9.]\n"
     ]
    }
   ],
   "source": [
    "## etiquetas de entrenamiento\n",
    "\n",
    "f = gzip.open('train-labels-idx1-ubyte.gz', 'r')\n",
    "\n",
    "num_labels = 60000\n",
    "\n",
    "\n",
    "f.read(8)\n",
    "buf = f.read(num_labels)\n",
    "label_train = np.frombuffer(buf, dtype=np.uint8).astype(np.float32)\n",
    "\n",
    "print(label_train.shape)\n",
    "print(label_train[:20])"
   ]
  },
  {
   "cell_type": "code",
   "execution_count": 14,
   "metadata": {
    "colab": {
     "base_uri": "https://localhost:8080/",
     "height": 282
    },
    "id": "m3MYltIU3RlE",
    "outputId": "a5e53b88-eae5-44fe-d469-422bc8baae6f"
   },
   "outputs": [
    {
     "name": "stdout",
     "output_type": "stream",
     "text": [
      "(10000, 28, 28, 1)\n"
     ]
    },
    {
     "data": {
      "image/png": "[encoded data removed]",
      "text/plain": [
       "<Figure size 432x288 with 1 Axes>"
      ]
     },
     "metadata": {
      "needs_background": "light"
     },
     "output_type": "display_data"
    }
   ],
   "source": [
    "## imagenes de prueba\n",
    "\n",
    "f = gzip.open('t10k-images-idx3-ubyte.gz', 'r')\n",
    "\n",
    "image_size = 28\n",
    "\n",
    "num_images = 10000\n",
    "\n",
    "import numpy as np\n",
    "\n",
    "f.read(16)\n",
    "buf = f.read(image_size*image_size*num_images)\n",
    "data_test = np.frombuffer(buf, dtype=np.uint8).astype(np.float32)\n",
    "\n",
    "data_test = data_test.reshape(num_images, image_size, image_size, 1)\n",
    "print(data_test.shape)\n",
    "\n",
    "image = np.asarray(data_test[2]).squeeze()\n",
    "plt.imshow(image)\n",
    "plt.show()"
   ]
  },
  {
   "cell_type": "code",
   "execution_count": 15,
   "metadata": {
    "colab": {
     "base_uri": "https://localhost:8080/"
    },
    "id": "prce6_Ci3RlF",
    "outputId": "347088b8-0eac-4ced-921f-255759c6f8a4"
   },
   "outputs": [
    {
     "name": "stdout",
     "output_type": "stream",
     "text": [
      "(10000,)\n",
      "[7. 2. 1. 0. 4. 1. 4. 9. 5. 9. 0. 6. 9. 0. 1. 5. 9. 7. 3. 4.]\n"
     ]
    }
   ],
   "source": [
    "## etiquetas de prueba\n",
    "\n",
    "f = gzip.open('t10k-labels-idx1-ubyte.gz', 'r')\n",
    "\n",
    "num_labels = 10000\n",
    "\n",
    "\n",
    "f.read(8)\n",
    "buf = f.read(num_labels)\n",
    "label_test = np.frombuffer(buf, dtype=np.uint8).astype(np.float32)\n",
    "\n",
    "print(label_test.shape)\n",
    "print(label_test[:20])"
   ]
  },
  {
   "cell_type": "markdown",
   "metadata": {
    "id": "W_Q_eb4o3RlF"
   },
   "source": [
    "con los datos organizados, podemos crear la nueva clase del dataset. \n",
    "\n",
    "una clase personalizada debe implementar tres funciones:\n",
    "- `__init__`: inicializamos los directorios, variables, transformaciones y demás\n",
    "- `__len__`: obtenemos el número de muestras en el conjunto\n",
    "- `__getitem__`: Carga y obtiene una muestra del conjunto dato el índice `idx`. Con base en el este índice, se identifica la imágen y la etiqueta en la lista creada. Si tenemos alguna transformación, se aplicará."
   ]
  },
  {
   "cell_type": "code",
   "execution_count": 16,
   "metadata": {
    "id": "j4StulsB3RlF"
   },
   "outputs": [],
   "source": [
    "from torch.utils.data import Dataset\n",
    "\n",
    "class ImageDataset(Dataset):\n",
    "    def __init__(self, labels, images, transform=None, target_transform=None):\n",
    "        self.labels = labels\n",
    "        self.images = images\n",
    "        self.transform = transform\n",
    "        self.target_transform = target_transform\n",
    "    \n",
    "    def __len__(self):\n",
    "        return len(self.labels)\n",
    "    \n",
    "    def __getitem__(self, idx):\n",
    "        image = self.images[idx]\n",
    "        label =  self.labels[idx]\n",
    "        if self.transform:\n",
    "            image = self.transform(image)\n",
    "        if self.target_transform:\n",
    "            label = self.target_transform(label)\n",
    "        return image, label\n",
    "        "
   ]
  },
  {
   "cell_type": "code",
   "execution_count": 17,
   "metadata": {
    "id": "gHrfU4Oa3RlF"
   },
   "outputs": [],
   "source": [
    "train_dataset = ImageDataset(label_train, data_train, transform=ToTensor())\n",
    "test_dataset = ImageDataset(label_test, data_test, transform=ToTensor())"
   ]
  },
  {
   "cell_type": "code",
   "execution_count": 18,
   "metadata": {
    "id": "shJDIMQB3RlF"
   },
   "outputs": [],
   "source": [
    "device = \"cuda\" if torch.cuda.is_available() else \"cpu\"\n",
    "kwargs = {'num_workers': 1, 'pin_memory': True} if device=='cuda' else {}\n",
    "\n",
    "train_dataloader = DataLoader(train_dataset, batch_size=64, shuffle=True,\n",
    "                              **kwargs)\n",
    "\n",
    "test_dataloader = DataLoader(test_dataset, batch_size=64, shuffle=True,\n",
    "                              **kwargs)"
   ]
  },
  {
   "cell_type": "code",
   "execution_count": 19,
   "metadata": {
    "colab": {
     "base_uri": "https://localhost:8080/",
     "height": 282
    },
    "id": "VM6byUKd5IGU",
    "outputId": "d92616af-268b-4006-a740-b03699ba592a"
   },
   "outputs": [
    {
     "data": {
      "image/png": "[encoded data removed]",
      "text/plain": [
       "<Figure size 432x288 with 1 Axes>"
      ]
     },
     "metadata": {
      "needs_background": "light"
     },
     "output_type": "display_data"
    },
    {
     "name": "stdout",
     "output_type": "stream",
     "text": [
      "0.0\n"
     ]
    }
   ],
   "source": [
    "train_features, train_labels = next(iter(train_dataloader))\n",
    "image = np.asarray(train_features[0]).squeeze()\n",
    "label = np.asarray(train_labels[0]).squeeze()\n",
    "plt.imshow(image)\n",
    "plt.show()\n",
    "print(label)"
   ]
  },
  {
   "cell_type": "markdown",
   "metadata": {
    "id": "h46hYxX-r7AW"
   },
   "source": [
    "##   <span style=\"color:blue\">Dataset Landmarks.</span>"
   ]
  },
  {
   "cell_type": "markdown",
   "metadata": {
    "id": "Y-n9NO5ZsC70"
   },
   "source": [
    "Ahora vamos a hacer un repaso rápido a un nuevo tipo de datos. Observaremos un conjunto de rostros humanos a los que se les ha especificado puntos faciales como las \"partes más importantes\" de esta"
   ]
  },
  {
   "cell_type": "code",
   "execution_count": 21,
   "metadata": {
    "colab": {
     "base_uri": "https://localhost:8080/"
    },
    "id": "b6cmH3tzEL41",
    "outputId": "653209f7-0cc0-4813-9429-c2e8f83be823"
   },
   "outputs": [
    {
     "name": "stderr",
     "output_type": "stream",
     "text": [
      "--2022-08-20 11:17:44--  https://download.pytorch.org/tutorial/faces.zip\n",
      "Resolving download.pytorch.org (download.pytorch.org)... 143.204.23.91, 143.204.23.6, 143.204.23.57, ...\n",
      "Connecting to download.pytorch.org (download.pytorch.org)|143.204.23.91|:443... connected.\n",
      "WARNING: cannot verify download.pytorch.org's certificate, issued by 'CN=Amazon,OU=Server CA 1B,O=Amazon,C=US':\n",
      "  Unable to locally verify the issuer's authority.\n",
      "HTTP request sent, awaiting response... 200 OK\n",
      "Length: 5780252 (5.5M) [application/zip]\n",
      "Saving to: 'faces.zip'\n",
      "\n",
      "     0K .......... .......... .......... .......... ..........  0%  588K 10s\n",
      "    50K .......... .......... .......... .......... ..........  1%  821K 8s\n",
      "   100K .......... .......... .......... .......... ..........  2%  952K 7s\n",
      "   150K .......... .......... .......... .......... ..........  3% 6.43M 6s\n",
      "   200K .......... .......... .......... .......... ..........  4% 8.23M 5s\n",
      "   250K .......... .......... .......... .......... ..........  5%  927K 5s\n",
      "   300K .......... .......... .......... .......... ..........  6% 3.46M 4s\n",
      "   350K .......... .......... .......... .......... ..........  7% 9.13M 4s\n",
      "   400K .......... .......... .......... .......... ..........  7% 12.4M 3s\n",
      "   450K .......... .......... .......... .......... ..........  8% 11.8M 3s\n",
      "   500K .......... .......... .......... .......... ..........  9% 12.7M 3s\n",
      "   550K .......... .......... .......... .......... .......... 10% 1.61M 3s\n",
      "   600K .......... .......... .......... .......... .......... 11% 4.59M 3s\n",
      "   650K .......... .......... .......... .......... .......... 12% 4.17M 2s\n",
      "   700K .......... .......... .......... .......... .......... 13% 9.39M 2s\n",
      "   750K .......... .......... .......... .......... .......... 14% 9.89M 2s\n",
      "   800K .......... .......... .......... .......... .......... 15% 16.4M 2s\n",
      "   850K .......... .......... .......... .......... .......... 15% 15.7M 2s\n",
      "   900K .......... .......... .......... .......... .......... 16% 32.7M 2s\n",
      "   950K .......... .......... .......... .......... .......... 17% 30.2M 2s\n",
      "  1000K .......... .......... .......... .......... .......... 18% 6.68M 2s\n",
      "  1050K .......... .......... .......... .......... .......... 19% 28.0M 2s\n",
      "  1100K .......... .......... .......... .......... .......... 20% 13.1M 1s\n",
      "  1150K .......... .......... .......... .......... .......... 21% 29.7M 1s\n",
      "  1200K .......... .......... .......... .......... .......... 22% 5.26M 1s\n",
      "  1250K .......... .......... .......... .......... .......... 23% 14.9M 1s\n",
      "  1300K .......... .......... .......... .......... .......... 23% 27.6M 1s\n",
      "  1350K .......... .......... .......... .......... .......... 24% 4.73M 1s\n",
      "  1400K .......... .......... .......... .......... .......... 25% 20.7M 1s\n",
      "  1450K .......... .......... .......... .......... .......... 26% 4.40M 1s\n",
      "  1500K .......... .......... .......... .......... .......... 27% 1.05M 1s\n",
      "  1550K .......... .......... .......... .......... .......... 28% 29.7M 1s\n",
      "  1600K .......... .......... .......... .......... .......... 29% 4.34M 1s\n",
      "  1650K .......... .......... .......... .......... .......... 30% 21.7M 1s\n",
      "  1700K .......... .......... .......... .......... .......... 31% 28.6M 1s\n",
      "  1750K .......... .......... .......... .......... .......... 31% 24.6M 1s\n",
      "  1800K .......... .......... .......... .......... .......... 32% 23.3M 1s\n",
      "  1850K .......... .......... .......... .......... .......... 33% 23.9M 1s\n",
      "  1900K .......... .......... .......... .......... .......... 34% 27.0M 1s\n",
      "  1950K .......... .......... .......... .......... .......... 35% 23.1M 1s\n",
      "  2000K .......... .......... .......... .......... .......... 36% 22.9M 1s\n",
      "  2050K .......... .......... .......... .......... .......... 37% 22.8M 1s\n",
      "  2100K .......... .......... .......... .......... .......... 38% 20.9M 1s\n",
      "  2150K .......... .......... .......... .......... .......... 38% 1.43M 1s\n",
      "  2200K .......... .......... .......... .......... .......... 39% 25.3M 1s\n",
      "  2250K .......... .......... .......... .......... .......... 40% 37.1M 1s\n",
      "  2300K .......... .......... .......... .......... .......... 41% 28.3M 1s\n",
      "  2350K .......... .......... .......... .......... .......... 42% 24.4M 1s\n",
      "  2400K .......... .......... .......... .......... .......... 43% 23.0M 1s\n",
      "  2450K .......... .......... .......... .......... .......... 44% 35.3M 1s\n",
      "  2500K .......... .......... .......... .......... .......... 45% 34.2M 1s\n",
      "  2550K .......... .......... .......... .......... .......... 46% 5.18M 1s\n",
      "  2600K .......... .......... .......... .......... .......... 46% 4.82M 1s\n",
      "  2650K .......... .......... .......... .......... .......... 47% 8.72M 1s\n",
      "  2700K .......... .......... .......... .......... .......... 48% 2.71M 1s\n",
      "  2750K .......... .......... .......... .......... .......... 49% 24.5M 1s\n",
      "  2800K .......... .......... .......... .......... .......... 50% 20.5M 1s\n",
      "  2850K .......... .......... .......... .......... .......... 51% 29.2M 1s\n",
      "  2900K .......... .......... .......... .......... .......... 52% 15.8M 1s\n",
      "  2950K .......... .......... .......... .......... .......... 53% 30.0M 1s\n",
      "  3000K .......... .......... .......... .......... .......... 54% 5.20M 1s\n",
      "  3050K .......... .......... .......... .......... .......... 54% 18.7M 1s\n",
      "  3100K .......... .......... .......... .......... .......... 55% 6.19M 0s\n",
      "  3150K .......... .......... .......... .......... .......... 56% 16.2M 0s\n",
      "  3200K .......... .......... .......... .......... .......... 57% 13.7M 0s\n",
      "  3250K .......... .......... .......... .......... .......... 58% 12.8M 0s\n",
      "  3300K .......... .......... .......... .......... .......... 59% 32.5M 0s\n",
      "  3350K .......... .......... .......... .......... .......... 60% 12.6M 0s\n",
      "  3400K .......... .......... .......... .......... .......... 61% 14.2M 0s\n",
      "  3450K .......... .......... .......... .......... .......... 62% 11.7M 0s\n",
      "  3500K .......... .......... .......... .......... .......... 62% 8.99M 0s\n",
      "  3550K .......... .......... .......... .......... .......... 63% 7.86M 0s\n",
      "  3600K .......... .......... .......... .......... .......... 64% 11.9M 0s\n",
      "  3650K .......... .......... .......... .......... .......... 65% 12.1M 0s\n",
      "  3700K .......... .......... .......... .......... .......... 66% 6.13M 0s\n",
      "  3750K .......... .......... .......... .......... .......... 67% 15.4M 0s\n",
      "  3800K .......... .......... .......... .......... .......... 68% 9.67M 0s\n",
      "  3850K .......... .......... .......... .......... .......... 69% 9.64M 0s\n",
      "  3900K .......... .......... .......... .......... .......... 69% 11.9M 0s\n",
      "  3950K .......... .......... .......... .......... .......... 70% 10.1M 0s\n",
      "  4000K .......... .......... .......... .......... .......... 71% 15.6M 0s\n",
      "  4050K .......... .......... .......... .......... .......... 72% 9.75M 0s\n",
      "  4100K .......... .......... .......... .......... .......... 73% 12.7M 0s\n",
      "  4150K .......... .......... .......... .......... .......... 74% 17.5M 0s\n",
      "  4200K .......... .......... .......... .......... .......... 75% 18.6M 0s\n",
      "  4250K .......... .......... .......... .......... .......... 76% 14.4M 0s\n",
      "  4300K .......... .......... .......... .......... .......... 77% 4.31M 0s\n",
      "  4350K .......... .......... .......... .......... .......... 77% 17.1M 0s\n",
      "  4400K .......... .......... .......... .......... .......... 78% 13.3M 0s\n",
      "  4450K .......... .......... .......... .......... .......... 79% 4.12M 0s\n",
      "  4500K .......... .......... .......... .......... .......... 80% 15.0M 0s\n",
      "  4550K .......... .......... .......... .......... .......... 81% 13.5M 0s\n",
      "  4600K .......... .......... .......... .......... .......... 82% 9.71M 0s\n",
      "  4650K .......... .......... .......... .......... .......... 83% 28.1M 0s\n",
      "  4700K .......... .......... .......... .......... .......... 84% 25.3M 0s\n",
      "  4750K .......... .......... .......... .......... .......... 85% 5.87M 0s\n",
      "  4800K .......... .......... .......... .......... .......... 85% 15.3M 0s\n",
      "  4850K .......... .......... .......... .......... .......... 86% 17.4M 0s\n",
      "  4900K .......... .......... .......... .......... .......... 87% 18.9M 0s\n",
      "  4950K .......... .......... .......... .......... .......... 88% 9.42M 0s\n",
      "  5000K .......... .......... .......... .......... .......... 89% 8.28M 0s\n",
      "  5050K .......... .......... .......... .......... .......... 90% 15.5M 0s\n",
      "  5100K .......... .......... .......... .......... .......... 91% 17.2M 0s\n",
      "  5150K .......... .......... .......... .......... .......... 92% 13.1M 0s\n",
      "  5200K .......... .......... .......... .......... .......... 93% 23.4M 0s\n",
      "  5250K .......... .......... .......... .......... .......... 93% 4.67M 0s\n",
      "  5300K .......... .......... .......... .......... .......... 94% 36.5M 0s\n",
      "  5350K .......... .......... .......... .......... .......... 95% 15.7M 0s\n",
      "  5400K .......... .......... .......... .......... .......... 96% 7.73M 0s\n",
      "  5450K .......... .......... .......... .......... .......... 97% 17.4M 0s\n",
      "  5500K .......... .......... .......... .......... .......... 98% 13.3M 0s\n",
      "  5550K .......... .......... .......... .......... .......... 99% 8.83M 0s\n",
      "  5600K .......... .......... .......... .......... ....      100% 4.31M=0.8s\n",
      "\n",
      "2022-08-20 11:17:46 (6.53 MB/s) - 'faces.zip' saved [5780252/5780252]\n",
      "\n"
     ]
    }
   ],
   "source": [
    "!wget https://download.pytorch.org/tutorial/faces.zip --no-check-certificate\n",
    "\n",
    "from skimage import io, transform"
   ]
  },
  {
   "cell_type": "code",
   "execution_count": 22,
   "metadata": {
    "id": "3gTnbImBrEty"
   },
   "outputs": [],
   "source": [
    "from zipfile import ZipFile\n",
    "\n",
    "with ZipFile('faces.zip', 'r') as zipObj:\n",
    "   zipObj.extractall()"
   ]
  },
  {
   "cell_type": "code",
   "execution_count": 23,
   "metadata": {
    "colab": {
     "base_uri": "https://localhost:8080/"
    },
    "id": "vz4xhpVZsecZ",
    "outputId": "89cb92da-4a61-4d09-fd10-294903a648c4"
   },
   "outputs": [
    {
     "name": "stdout",
     "output_type": "stream",
     "text": [
      "nombre de la imagen: person-7.jpg\n",
      "forma de las características: (68, 2)\n",
      "primeras 4 características: [[32. 65.]\n",
      " [33. 76.]\n",
      " [34. 86.]\n",
      " [34. 97.]]\n"
     ]
    }
   ],
   "source": [
    "landmarks_frame = pd.read_csv('faces/face_landmarks.csv')\n",
    "\n",
    "n = 65\n",
    "img_name = landmarks_frame.iloc[n, 0]\n",
    "landmarks = landmarks_frame.iloc[n, 1:]\n",
    "landmarks = np.asarray(landmarks)\n",
    "landmarks = landmarks.astype('float').reshape(-1, 2)\n",
    "\n",
    "print('nombre de la imagen: {}'.format(img_name))\n",
    "print('forma de las características: {}'.format(landmarks.shape))\n",
    "print('primeras 4 características: {}'.format(landmarks[:4]))"
   ]
  },
  {
   "cell_type": "code",
   "execution_count": 24,
   "metadata": {
    "colab": {
     "base_uri": "https://localhost:8080/",
     "height": 269
    },
    "id": "GBU7HlzirYIE",
    "outputId": "bfda6e3d-4942-48cd-f9ff-44d5467df6ca"
   },
   "outputs": [
    {
     "data": {
      "image/png": "[encoded data removed]",
      "text/plain": [
       "<Figure size 432x288 with 1 Axes>"
      ]
     },
     "metadata": {
      "needs_background": "light"
     },
     "output_type": "display_data"
    }
   ],
   "source": [
    "def show_landmarks(image, landmarks):\n",
    "    \"\"\"Show image with landmarks\"\"\"\n",
    "    plt.imshow(image)\n",
    "    plt.scatter(landmarks[:, 0], landmarks[:, 1], s=10, marker='.', c='r')\n",
    "    plt.pause(0.001)  # pause a bit so that plots are updated\n",
    "\n",
    "plt.figure()\n",
    "show_landmarks(io.imread(os.path.join('faces/', img_name)),\n",
    "               landmarks)\n",
    "plt.show()"
   ]
  },
  {
   "cell_type": "markdown",
   "metadata": {
    "id": "9yIE1QK8swDf"
   },
   "source": [
    "Hacemos su clase personalizada para leer el archivo CSV y lo empareja con la imagen transformada a tensor"
   ]
  },
  {
   "cell_type": "code",
   "execution_count": 25,
   "metadata": {
    "id": "b6cR6hwmsYWf"
   },
   "outputs": [],
   "source": [
    "class FaceLandmarksDataset(Dataset):\n",
    "    \"\"\"Face Landmarks dataset.\"\"\"\n",
    "\n",
    "    def __init__(self, csv_file, root_dir, transform=None):\n",
    "        \"\"\"\n",
    "        Args:\n",
    "            csv_file (string): dirección al archivo CSV con las coordenadas\n",
    "            root_dir (string): Directorio con todas las imagenes.\n",
    "            transform (callable, optional): transformaciones a aplicarse\n",
    "        \"\"\"\n",
    "        self.landmarks_frame = pd.read_csv(csv_file)\n",
    "        self.root_dir = root_dir\n",
    "        self.transform = transform\n",
    "\n",
    "    def __len__(self):\n",
    "        return len(self.landmarks_frame)\n",
    "\n",
    "    def __getitem__(self, idx):\n",
    "        if torch.is_tensor(idx):\n",
    "            idx = idx.tolist()\n",
    "\n",
    "        img_name = os.path.join(self.root_dir,\n",
    "                                self.landmarks_frame.iloc[idx, 0])\n",
    "        image = io.imread(img_name)\n",
    "        landmarks = self.landmarks_frame.iloc[idx, 1:]\n",
    "        landmarks = np.array([landmarks])\n",
    "        landmarks = landmarks.astype('float').reshape(-1, 2)\n",
    "        sample = {'image': image, 'landmarks': landmarks}\n",
    "\n",
    "        if self.transform:\n",
    "            sample = self.transform(sample)\n",
    "\n",
    "        return sample"
   ]
  },
  {
   "cell_type": "markdown",
   "metadata": {
    "id": "QGxppPbNtUBY"
   },
   "source": [
    "Iteremos sobre el dataset de manera directa"
   ]
  },
  {
   "cell_type": "code",
   "execution_count": 26,
   "metadata": {
    "colab": {
     "base_uri": "https://localhost:8080/",
     "height": 635
    },
    "id": "9qq4A26BtMLn",
    "outputId": "c67cd4eb-60f1-4d67-a0e7-8c3a6d4e49a6"
   },
   "outputs": [
    {
     "name": "stdout",
     "output_type": "stream",
     "text": [
      "0 (324, 215, 3) (68, 2)\n"
     ]
    },
    {
     "data": {
      "image/png": "[encoded data removed]",
      "text/plain": [
       "<Figure size 432x288 with 1 Axes>"
      ]
     },
     "metadata": {
      "needs_background": "light"
     },
     "output_type": "display_data"
    },
    {
     "name": "stdout",
     "output_type": "stream",
     "text": [
      "1 (500, 333, 3) (68, 2)\n"
     ]
    },
    {
     "data": {
      "image/png": "[encoded data removed]",
      "text/plain": [
       "<Figure size 432x288 with 1 Axes>"
      ]
     },
     "metadata": {
      "needs_background": "light"
     },
     "output_type": "display_data"
    },
    {
     "name": "stdout",
     "output_type": "stream",
     "text": [
      "2 (250, 258, 3) (68, 2)\n"
     ]
    },
    {
     "data": {
      "image/png": "[encoded data removed]",
      "text/plain": [
       "<Figure size 432x288 with 1 Axes>"
      ]
     },
     "metadata": {
      "needs_background": "light"
     },
     "output_type": "display_data"
    },
    {
     "name": "stdout",
     "output_type": "stream",
     "text": [
      "3 (434, 290, 3) (68, 2)\n"
     ]
    },
    {
     "data": {
      "image/png": "[encoded data removed]",
      "text/plain": [
       "<Figure size 432x288 with 1 Axes>"
      ]
     },
     "metadata": {
      "needs_background": "light"
     },
     "output_type": "display_data"
    }
   ],
   "source": [
    "face_dataset = FaceLandmarksDataset(csv_file='faces/face_landmarks.csv',\n",
    "                                    root_dir='faces/')\n",
    "\n",
    "fig = plt.figure()\n",
    "\n",
    "for i in range(len(face_dataset)):\n",
    "    sample = face_dataset[i]\n",
    "\n",
    "    print(i, sample['image'].shape, sample['landmarks'].shape)\n",
    "\n",
    "    ax = plt.subplot(1, 4, i + 1)\n",
    "    plt.tight_layout()\n",
    "    ax.set_title('Sample #{}'.format(i))\n",
    "    ax.axis('off')\n",
    "    show_landmarks(**sample)\n",
    "\n",
    "    if i == 3:\n",
    "        plt.show()\n",
    "        break"
   ]
  },
  {
   "cell_type": "code",
   "execution_count": null,
   "metadata": {
    "id": "QDWll7-jtRPL"
   },
   "outputs": [],
   "source": []
  }
 ],
 "metadata": {
  "accelerator": "GPU",
  "colab": {
   "collapsed_sections": [],
   "name": "Taller_pytorch_dataloader.ipynb",
   "provenance": []
  },
  "gpuClass": "standard",
  "kernelspec": {
   "display_name": "Python 3 (ipykernel)",
   "language": "python",
   "name": "python3"
  },
  "language_info": {
   "codemirror_mode": {
    "name": "ipython",
    "version": 3
   },
   "file_extension": ".py",
   "mimetype": "text/x-python",
   "name": "python",
   "nbconvert_exporter": "python",
   "pygments_lexer": "ipython3",
   "version": "3.9.7"
  },
  "vscode": {
   "interpreter": {
    "hash": "5eb807cd7242e53c7003c9ceab3abd70e7698cb7c4803202cab9910207ec3974"
   }
  },
  "widgets": {
   "application/vnd.jupyter.widget-state+json": {
    "03f1dd7101984f50a4d83f05151b9b1b": {
     "model_module": "@jupyter-widgets/controls",
     "model_module_version": "2.0.0",
     "model_name": "FloatProgressModel",
     "state": {
      "_dom_classes": [],
      "_model_module": "@jupyter-widgets/controls",
      "_model_module_version": "2.0.0",
      "_model_name": "FloatProgressModel",
      "_view_count": null,
      "_view_module": "@jupyter-widgets/controls",
      "_view_module_version": "2.0.0",
      "_view_name": "ProgressView",
      "bar_style": "success",
      "description": "",
      "description_allow_html": false,
      "layout": "IPY_MODEL_b8411a401dee4420a74fc2bb2c0ed74e",
      "max": 29515,
      "min": 0,
      "orientation": "horizontal",
      "style": "IPY_MODEL_4e6827cacc574568b769a5c1df9997cb",
      "tabbable": null,
      "tooltip": null,
      "value": 29515
     }
    },
    "13ceb7c9433b481099cdf19453cab711": {
     "model_module": "@jupyter-widgets/base",
     "model_module_version": "2.0.0",
     "model_name": "LayoutModel",
     "state": {
      "_model_module": "@jupyter-widgets/base",
      "_model_module_version": "2.0.0",
      "_model_name": "LayoutModel",
      "_view_count": null,
      "_view_module": "@jupyter-widgets/base",
      "_view_module_version": "2.0.0",
      "_view_name": "LayoutView",
      "align_content": null,
      "align_items": null,
      "align_self": null,
      "border_bottom": null,
      "border_left": null,
      "border_right": null,
      "border_top": null,
      "bottom": null,
      "display": null,
      "flex": null,
      "flex_flow": null,
      "grid_area": null,
      "grid_auto_columns": null,
      "grid_auto_flow": null,
      "grid_auto_rows": null,
      "grid_column": null,
      "grid_gap": null,
      "grid_row": null,
      "grid_template_areas": null,
      "grid_template_columns": null,
      "grid_template_rows": null,
      "height": null,
      "justify_content": null,
      "justify_items": null,
      "left": null,
      "margin": null,
      "max_height": null,
      "max_width": null,
      "min_height": null,
      "min_width": null,
      "object_fit": null,
      "object_position": null,
      "order": null,
      "overflow": null,
      "padding": null,
      "right": null,
      "top": null,
      "visibility": null,
      "width": null
     }
    },
    "175c318f63f547ff9d5f301e21aa2ce7": {
     "model_module": "@jupyter-widgets/base",
     "model_module_version": "2.0.0",
     "model_name": "LayoutModel",
     "state": {
      "_model_module": "@jupyter-widgets/base",
      "_model_module_version": "2.0.0",
      "_model_name": "LayoutModel",
      "_view_count": null,
      "_view_module": "@jupyter-widgets/base",
      "_view_module_version": "2.0.0",
      "_view_name": "LayoutView",
      "align_content": null,
      "align_items": null,
      "align_self": null,
      "border_bottom": null,
      "border_left": null,
      "border_right": null,
      "border_top": null,
      "bottom": null,
      "display": null,
      "flex": null,
      "flex_flow": null,
      "grid_area": null,
      "grid_auto_columns": null,
      "grid_auto_flow": null,
      "grid_auto_rows": null,
      "grid_column": null,
      "grid_gap": null,
      "grid_row": null,
      "grid_template_areas": null,
      "grid_template_columns": null,
      "grid_template_rows": null,
      "height": null,
      "justify_content": null,
      "justify_items": null,
      "left": null,
      "margin": null,
      "max_height": null,
      "max_width": null,
      "min_height": null,
      "min_width": null,
      "object_fit": null,
      "object_position": null,
      "order": null,
      "overflow": null,
      "padding": null,
      "right": null,
      "top": null,
      "visibility": null,
      "width": null
     }
    },
    "17e242d896dc4f95b245238b80164a81": {
     "model_module": "@jupyter-widgets/controls",
     "model_module_version": "2.0.0",
     "model_name": "HTMLModel",
     "state": {
      "_dom_classes": [],
      "_model_module": "@jupyter-widgets/controls",
      "_model_module_version": "2.0.0",
      "_model_name": "HTMLModel",
      "_view_count": null,
      "_view_module": "@jupyter-widgets/controls",
      "_view_module_version": "2.0.0",
      "_view_name": "HTMLView",
      "description": "",
      "description_allow_html": false,
      "layout": "IPY_MODEL_a4c07686ee7047d6a428b2a60d42216b",
      "placeholder": "​",
      "style": "IPY_MODEL_d9209d782b9744b491ff439df74d4e8b",
      "tabbable": null,
      "tooltip": null,
      "value": " 29515/29515 [00:00&lt;00:00, 141564.32it/s]"
     }
    },
    "2447af944dd440209cbb7fc83d5deabb": {
     "model_module": "@jupyter-widgets/controls",
     "model_module_version": "2.0.0",
     "model_name": "HTMLStyleModel",
     "state": {
      "_model_module": "@jupyter-widgets/controls",
      "_model_module_version": "2.0.0",
      "_model_name": "HTMLStyleModel",
      "_view_count": null,
      "_view_module": "@jupyter-widgets/base",
      "_view_module_version": "2.0.0",
      "_view_name": "StyleView",
      "background": null,
      "description_width": "",
      "font_size": null,
      "text_color": null
     }
    },
    "36f14daf329c45cdba8937d1fb5b8c3d": {
     "model_module": "@jupyter-widgets/controls",
     "model_module_version": "2.0.0",
     "model_name": "FloatProgressModel",
     "state": {
      "_dom_classes": [],
      "_model_module": "@jupyter-widgets/controls",
      "_model_module_version": "2.0.0",
      "_model_name": "FloatProgressModel",
      "_view_count": null,
      "_view_module": "@jupyter-widgets/controls",
      "_view_module_version": "2.0.0",
      "_view_name": "ProgressView",
      "bar_style": "success",
      "description": "",
      "description_allow_html": false,
      "layout": "IPY_MODEL_175c318f63f547ff9d5f301e21aa2ce7",
      "max": 5148,
      "min": 0,
      "orientation": "horizontal",
      "style": "IPY_MODEL_488ff5e50fdf40a7bc71370737b0b878",
      "tabbable": null,
      "tooltip": null,
      "value": 5148
     }
    },
    "38618319140b43a5a3db0ed2d64264e4": {
     "model_module": "@jupyter-widgets/controls",
     "model_module_version": "2.0.0",
     "model_name": "HBoxModel",
     "state": {
      "_dom_classes": [],
      "_model_module": "@jupyter-widgets/controls",
      "_model_module_version": "2.0.0",
      "_model_name": "HBoxModel",
      "_view_count": null,
      "_view_module": "@jupyter-widgets/controls",
      "_view_module_version": "2.0.0",
      "_view_name": "HBoxView",
      "box_style": "",
      "children": [
       "IPY_MODEL_cde4eda0cd7e4e70ba3a7170131766d0",
       "IPY_MODEL_8d6f530761ef4914a3442b3a4570ba66",
       "IPY_MODEL_685582ff85fb46f18e957445728d4d8f"
      ],
      "layout": "IPY_MODEL_f3d16fe14ce547cb97bb62186a137674",
      "tabbable": null,
      "tooltip": null
     }
    },
    "41b324f65e4943e69453782ef5f742c0": {
     "model_module": "@jupyter-widgets/controls",
     "model_module_version": "2.0.0",
     "model_name": "HTMLStyleModel",
     "state": {
      "_model_module": "@jupyter-widgets/controls",
      "_model_module_version": "2.0.0",
      "_model_name": "HTMLStyleModel",
      "_view_count": null,
      "_view_module": "@jupyter-widgets/base",
      "_view_module_version": "2.0.0",
      "_view_name": "StyleView",
      "background": null,
      "description_width": "",
      "font_size": null,
      "text_color": null
     }
    },
    "448f45af471841ceb77b8800b77cd3e8": {
     "model_module": "@jupyter-widgets/base",
     "model_module_version": "2.0.0",
     "model_name": "LayoutModel",
     "state": {
      "_model_module": "@jupyter-widgets/base",
      "_model_module_version": "2.0.0",
      "_model_name": "LayoutModel",
      "_view_count": null,
      "_view_module": "@jupyter-widgets/base",
      "_view_module_version": "2.0.0",
      "_view_name": "LayoutView",
      "align_content": null,
      "align_items": null,
      "align_self": null,
      "border_bottom": null,
      "border_left": null,
      "border_right": null,
      "border_top": null,
      "bottom": null,
      "display": null,
      "flex": null,
      "flex_flow": null,
      "grid_area": null,
      "grid_auto_columns": null,
      "grid_auto_flow": null,
      "grid_auto_rows": null,
      "grid_column": null,
      "grid_gap": null,
      "grid_row": null,
      "grid_template_areas": null,
      "grid_template_columns": null,
      "grid_template_rows": null,
      "height": null,
      "justify_content": null,
      "justify_items": null,
      "left": null,
      "margin": null,
      "max_height": null,
      "max_width": null,
      "min_height": null,
      "min_width": null,
      "object_fit": null,
      "object_position": null,
      "order": null,
      "overflow": null,
      "padding": null,
      "right": null,
      "top": null,
      "visibility": null,
      "width": null
     }
    },
    "488ff5e50fdf40a7bc71370737b0b878": {
     "model_module": "@jupyter-widgets/controls",
     "model_module_version": "2.0.0",
     "model_name": "ProgressStyleModel",
     "state": {
      "_model_module": "@jupyter-widgets/controls",
      "_model_module_version": "2.0.0",
      "_model_name": "ProgressStyleModel",
      "_view_count": null,
      "_view_module": "@jupyter-widgets/base",
      "_view_module_version": "2.0.0",
      "_view_name": "StyleView",
      "bar_color": null,
      "description_width": ""
     }
    },
    "4967a7c13f3c403f94bb21413d9763c0": {
     "model_module": "@jupyter-widgets/controls",
     "model_module_version": "2.0.0",
     "model_name": "HBoxModel",
     "state": {
      "_dom_classes": [],
      "_model_module": "@jupyter-widgets/controls",
      "_model_module_version": "2.0.0",
      "_model_name": "HBoxModel",
      "_view_count": null,
      "_view_module": "@jupyter-widgets/controls",
      "_view_module_version": "2.0.0",
      "_view_name": "HBoxView",
      "box_style": "",
      "children": [
       "IPY_MODEL_9a4797fbca1949aea1eba2f4f3b2aad7",
       "IPY_MODEL_03f1dd7101984f50a4d83f05151b9b1b",
       "IPY_MODEL_17e242d896dc4f95b245238b80164a81"
      ],
      "layout": "IPY_MODEL_448f45af471841ceb77b8800b77cd3e8",
      "tabbable": null,
      "tooltip": null
     }
    },
    "4de939ec73ee4c4b902280b75777c1fb": {
     "model_module": "@jupyter-widgets/base",
     "model_module_version": "2.0.0",
     "model_name": "LayoutModel",
     "state": {
      "_model_module": "@jupyter-widgets/base",
      "_model_module_version": "2.0.0",
      "_model_name": "LayoutModel",
      "_view_count": null,
      "_view_module": "@jupyter-widgets/base",
      "_view_module_version": "2.0.0",
      "_view_name": "LayoutView",
      "align_content": null,
      "align_items": null,
      "align_self": null,
      "border_bottom": null,
      "border_left": null,
      "border_right": null,
      "border_top": null,
      "bottom": null,
      "display": null,
      "flex": null,
      "flex_flow": null,
      "grid_area": null,
      "grid_auto_columns": null,
      "grid_auto_flow": null,
      "grid_auto_rows": null,
      "grid_column": null,
      "grid_gap": null,
      "grid_row": null,
      "grid_template_areas": null,
      "grid_template_columns": null,
      "grid_template_rows": null,
      "height": null,
      "justify_content": null,
      "justify_items": null,
      "left": null,
      "margin": null,
      "max_height": null,
      "max_width": null,
      "min_height": null,
      "min_width": null,
      "object_fit": null,
      "object_position": null,
      "order": null,
      "overflow": null,
      "padding": null,
      "right": null,
      "top": null,
      "visibility": null,
      "width": null
     }
    },
    "4e6827cacc574568b769a5c1df9997cb": {
     "model_module": "@jupyter-widgets/controls",
     "model_module_version": "2.0.0",
     "model_name": "ProgressStyleModel",
     "state": {
      "_model_module": "@jupyter-widgets/controls",
      "_model_module_version": "2.0.0",
      "_model_name": "ProgressStyleModel",
      "_view_count": null,
      "_view_module": "@jupyter-widgets/base",
      "_view_module_version": "2.0.0",
      "_view_name": "StyleView",
      "bar_color": null,
      "description_width": ""
     }
    },
    "554311ea0e9444fa9fa8ac3445b254e4": {
     "model_module": "@jupyter-widgets/controls",
     "model_module_version": "2.0.0",
     "model_name": "HTMLStyleModel",
     "state": {
      "_model_module": "@jupyter-widgets/controls",
      "_model_module_version": "2.0.0",
      "_model_name": "HTMLStyleModel",
      "_view_count": null,
      "_view_module": "@jupyter-widgets/base",
      "_view_module_version": "2.0.0",
      "_view_name": "StyleView",
      "background": null,
      "description_width": "",
      "font_size": null,
      "text_color": null
     }
    },
    "556e8311a20743fb9cf46a599e32c43f": {
     "model_module": "@jupyter-widgets/controls",
     "model_module_version": "2.0.0",
     "model_name": "HTMLModel",
     "state": {
      "_dom_classes": [],
      "_model_module": "@jupyter-widgets/controls",
      "_model_module_version": "2.0.0",
      "_model_name": "HTMLModel",
      "_view_count": null,
      "_view_module": "@jupyter-widgets/controls",
      "_view_module_version": "2.0.0",
      "_view_name": "HTMLView",
      "description": "",
      "description_allow_html": false,
      "layout": "IPY_MODEL_c97e5a63b76d44de82ab5f55cb1bbcf0",
      "placeholder": "​",
      "style": "IPY_MODEL_cde0f53296cf43ef9486c28bf01480c9",
      "tabbable": null,
      "tooltip": null,
      "value": "100%"
     }
    },
    "624d3151913644afa93a980562658db6": {
     "model_module": "@jupyter-widgets/controls",
     "model_module_version": "2.0.0",
     "model_name": "HBoxModel",
     "state": {
      "_dom_classes": [],
      "_model_module": "@jupyter-widgets/controls",
      "_model_module_version": "2.0.0",
      "_model_name": "HBoxModel",
      "_view_count": null,
      "_view_module": "@jupyter-widgets/controls",
      "_view_module_version": "2.0.0",
      "_view_name": "HBoxView",
      "box_style": "",
      "children": [
       "IPY_MODEL_8227c07aea6e4c1f857ab91b560ebabd",
       "IPY_MODEL_36f14daf329c45cdba8937d1fb5b8c3d",
       "IPY_MODEL_bde354e651114071a234322b47746e81"
      ],
      "layout": "IPY_MODEL_aa47228769244db88334d6df8f5180f0",
      "tabbable": null,
      "tooltip": null
     }
    },
    "685582ff85fb46f18e957445728d4d8f": {
     "model_module": "@jupyter-widgets/controls",
     "model_module_version": "2.0.0",
     "model_name": "HTMLModel",
     "state": {
      "_dom_classes": [],
      "_model_module": "@jupyter-widgets/controls",
      "_model_module_version": "2.0.0",
      "_model_name": "HTMLModel",
      "_view_count": null,
      "_view_module": "@jupyter-widgets/controls",
      "_view_module_version": "2.0.0",
      "_view_name": "HTMLView",
      "description": "",
      "description_allow_html": false,
      "layout": "IPY_MODEL_9a81974abebc4d049add7d9cb66cb6cb",
      "placeholder": "​",
      "style": "IPY_MODEL_6ab9ddf546ba43fd8996e3a96e401e3c",
      "tabbable": null,
      "tooltip": null,
      "value": " 4422102/4422102 [00:01&lt;00:00, 4645090.82it/s]"
     }
    },
    "6ab9ddf546ba43fd8996e3a96e401e3c": {
     "model_module": "@jupyter-widgets/controls",
     "model_module_version": "2.0.0",
     "model_name": "HTMLStyleModel",
     "state": {
      "_model_module": "@jupyter-widgets/controls",
      "_model_module_version": "2.0.0",
      "_model_name": "HTMLStyleModel",
      "_view_count": null,
      "_view_module": "@jupyter-widgets/base",
      "_view_module_version": "2.0.0",
      "_view_name": "StyleView",
      "background": null,
      "description_width": "",
      "font_size": null,
      "text_color": null
     }
    },
    "6bcb020061254a35aeae261d2db021bd": {
     "model_module": "@jupyter-widgets/controls",
     "model_module_version": "2.0.0",
     "model_name": "HBoxModel",
     "state": {
      "_dom_classes": [],
      "_model_module": "@jupyter-widgets/controls",
      "_model_module_version": "2.0.0",
      "_model_name": "HBoxModel",
      "_view_count": null,
      "_view_module": "@jupyter-widgets/controls",
      "_view_module_version": "2.0.0",
      "_view_name": "HBoxView",
      "box_style": "",
      "children": [
       "IPY_MODEL_556e8311a20743fb9cf46a599e32c43f",
       "IPY_MODEL_7e7df706f26a4c34938b33fc61d2ceb6",
       "IPY_MODEL_b33acc30e5e9461592479b2c4db33fa5"
      ],
      "layout": "IPY_MODEL_7b9f72eaefc54a45a46310c0252a47dc",
      "tabbable": null,
      "tooltip": null
     }
    },
    "7545abd2e1e64607a25408c980216d74": {
     "model_module": "@jupyter-widgets/base",
     "model_module_version": "2.0.0",
     "model_name": "LayoutModel",
     "state": {
      "_model_module": "@jupyter-widgets/base",
      "_model_module_version": "2.0.0",
      "_model_name": "LayoutModel",
      "_view_count": null,
      "_view_module": "@jupyter-widgets/base",
      "_view_module_version": "2.0.0",
      "_view_name": "LayoutView",
      "align_content": null,
      "align_items": null,
      "align_self": null,
      "border_bottom": null,
      "border_left": null,
      "border_right": null,
      "border_top": null,
      "bottom": null,
      "display": null,
      "flex": null,
      "flex_flow": null,
      "grid_area": null,
      "grid_auto_columns": null,
      "grid_auto_flow": null,
      "grid_auto_rows": null,
      "grid_column": null,
      "grid_gap": null,
      "grid_row": null,
      "grid_template_areas": null,
      "grid_template_columns": null,
      "grid_template_rows": null,
      "height": null,
      "justify_content": null,
      "justify_items": null,
      "left": null,
      "margin": null,
      "max_height": null,
      "max_width": null,
      "min_height": null,
      "min_width": null,
      "object_fit": null,
      "object_position": null,
      "order": null,
      "overflow": null,
      "padding": null,
      "right": null,
      "top": null,
      "visibility": null,
      "width": null
     }
    },
    "7b9f72eaefc54a45a46310c0252a47dc": {
     "model_module": "@jupyter-widgets/base",
     "model_module_version": "2.0.0",
     "model_name": "LayoutModel",
     "state": {
      "_model_module": "@jupyter-widgets/base",
      "_model_module_version": "2.0.0",
      "_model_name": "LayoutModel",
      "_view_count": null,
      "_view_module": "@jupyter-widgets/base",
      "_view_module_version": "2.0.0",
      "_view_name": "LayoutView",
      "align_content": null,
      "align_items": null,
      "align_self": null,
      "border_bottom": null,
      "border_left": null,
      "border_right": null,
      "border_top": null,
      "bottom": null,
      "display": null,
      "flex": null,
      "flex_flow": null,
      "grid_area": null,
      "grid_auto_columns": null,
      "grid_auto_flow": null,
      "grid_auto_rows": null,
      "grid_column": null,
      "grid_gap": null,
      "grid_row": null,
      "grid_template_areas": null,
      "grid_template_columns": null,
      "grid_template_rows": null,
      "height": null,
      "justify_content": null,
      "justify_items": null,
      "left": null,
      "margin": null,
      "max_height": null,
      "max_width": null,
      "min_height": null,
      "min_width": null,
      "object_fit": null,
      "object_position": null,
      "order": null,
      "overflow": null,
      "padding": null,
      "right": null,
      "top": null,
      "visibility": null,
      "width": null
     }
    },
    "7cd6a7e1f8d044048a0f847a91f1cfbf": {
     "model_module": "@jupyter-widgets/base",
     "model_module_version": "2.0.0",
     "model_name": "LayoutModel",
     "state": {
      "_model_module": "@jupyter-widgets/base",
      "_model_module_version": "2.0.0",
      "_model_name": "LayoutModel",
      "_view_count": null,
      "_view_module": "@jupyter-widgets/base",
      "_view_module_version": "2.0.0",
      "_view_name": "LayoutView",
      "align_content": null,
      "align_items": null,
      "align_self": null,
      "border_bottom": null,
      "border_left": null,
      "border_right": null,
      "border_top": null,
      "bottom": null,
      "display": null,
      "flex": null,
      "flex_flow": null,
      "grid_area": null,
      "grid_auto_columns": null,
      "grid_auto_flow": null,
      "grid_auto_rows": null,
      "grid_column": null,
      "grid_gap": null,
      "grid_row": null,
      "grid_template_areas": null,
      "grid_template_columns": null,
      "grid_template_rows": null,
      "height": null,
      "justify_content": null,
      "justify_items": null,
      "left": null,
      "margin": null,
      "max_height": null,
      "max_width": null,
      "min_height": null,
      "min_width": null,
      "object_fit": null,
      "object_position": null,
      "order": null,
      "overflow": null,
      "padding": null,
      "right": null,
      "top": null,
      "visibility": null,
      "width": null
     }
    },
    "7e7df706f26a4c34938b33fc61d2ceb6": {
     "model_module": "@jupyter-widgets/controls",
     "model_module_version": "2.0.0",
     "model_name": "FloatProgressModel",
     "state": {
      "_dom_classes": [],
      "_model_module": "@jupyter-widgets/controls",
      "_model_module_version": "2.0.0",
      "_model_name": "FloatProgressModel",
      "_view_count": null,
      "_view_module": "@jupyter-widgets/controls",
      "_view_module_version": "2.0.0",
      "_view_name": "ProgressView",
      "bar_style": "success",
      "description": "",
      "description_allow_html": false,
      "layout": "IPY_MODEL_13ceb7c9433b481099cdf19453cab711",
      "max": 26421880,
      "min": 0,
      "orientation": "horizontal",
      "style": "IPY_MODEL_d37ef25b55994d0ca9dd2261fea31ee3",
      "tabbable": null,
      "tooltip": null,
      "value": 26421880
     }
    },
    "8227c07aea6e4c1f857ab91b560ebabd": {
     "model_module": "@jupyter-widgets/controls",
     "model_module_version": "2.0.0",
     "model_name": "HTMLModel",
     "state": {
      "_dom_classes": [],
      "_model_module": "@jupyter-widgets/controls",
      "_model_module_version": "2.0.0",
      "_model_name": "HTMLModel",
      "_view_count": null,
      "_view_module": "@jupyter-widgets/controls",
      "_view_module_version": "2.0.0",
      "_view_name": "HTMLView",
      "description": "",
      "description_allow_html": false,
      "layout": "IPY_MODEL_a6d088ca4d4d42f29bd537af8b72b728",
      "placeholder": "​",
      "style": "IPY_MODEL_41b324f65e4943e69453782ef5f742c0",
      "tabbable": null,
      "tooltip": null,
      "value": "100%"
     }
    },
    "86496fe228464f98b1e6cb2720f4448b": {
     "model_module": "@jupyter-widgets/base",
     "model_module_version": "2.0.0",
     "model_name": "LayoutModel",
     "state": {
      "_model_module": "@jupyter-widgets/base",
      "_model_module_version": "2.0.0",
      "_model_name": "LayoutModel",
      "_view_count": null,
      "_view_module": "@jupyter-widgets/base",
      "_view_module_version": "2.0.0",
      "_view_name": "LayoutView",
      "align_content": null,
      "align_items": null,
      "align_self": null,
      "border_bottom": null,
      "border_left": null,
      "border_right": null,
      "border_top": null,
      "bottom": null,
      "display": null,
      "flex": null,
      "flex_flow": null,
      "grid_area": null,
      "grid_auto_columns": null,
      "grid_auto_flow": null,
      "grid_auto_rows": null,
      "grid_column": null,
      "grid_gap": null,
      "grid_row": null,
      "grid_template_areas": null,
      "grid_template_columns": null,
      "grid_template_rows": null,
      "height": null,
      "justify_content": null,
      "justify_items": null,
      "left": null,
      "margin": null,
      "max_height": null,
      "max_width": null,
      "min_height": null,
      "min_width": null,
      "object_fit": null,
      "object_position": null,
      "order": null,
      "overflow": null,
      "padding": null,
      "right": null,
      "top": null,
      "visibility": null,
      "width": null
     }
    },
    "8d6f530761ef4914a3442b3a4570ba66": {
     "model_module": "@jupyter-widgets/controls",
     "model_module_version": "2.0.0",
     "model_name": "FloatProgressModel",
     "state": {
      "_dom_classes": [],
      "_model_module": "@jupyter-widgets/controls",
      "_model_module_version": "2.0.0",
      "_model_name": "FloatProgressModel",
      "_view_count": null,
      "_view_module": "@jupyter-widgets/controls",
      "_view_module_version": "2.0.0",
      "_view_name": "ProgressView",
      "bar_style": "success",
      "description": "",
      "description_allow_html": false,
      "layout": "IPY_MODEL_86496fe228464f98b1e6cb2720f4448b",
      "max": 4422102,
      "min": 0,
      "orientation": "horizontal",
      "style": "IPY_MODEL_a945929aac9f42c68aabcffbd1b4ac10",
      "tabbable": null,
      "tooltip": null,
      "value": 4422102
     }
    },
    "9a4797fbca1949aea1eba2f4f3b2aad7": {
     "model_module": "@jupyter-widgets/controls",
     "model_module_version": "2.0.0",
     "model_name": "HTMLModel",
     "state": {
      "_dom_classes": [],
      "_model_module": "@jupyter-widgets/controls",
      "_model_module_version": "2.0.0",
      "_model_name": "HTMLModel",
      "_view_count": null,
      "_view_module": "@jupyter-widgets/controls",
      "_view_module_version": "2.0.0",
      "_view_name": "HTMLView",
      "description": "",
      "description_allow_html": false,
      "layout": "IPY_MODEL_eb250d8679a44d26bcd904808074e974",
      "placeholder": "​",
      "style": "IPY_MODEL_2447af944dd440209cbb7fc83d5deabb",
      "tabbable": null,
      "tooltip": null,
      "value": "100%"
     }
    },
    "9a81974abebc4d049add7d9cb66cb6cb": {
     "model_module": "@jupyter-widgets/base",
     "model_module_version": "2.0.0",
     "model_name": "LayoutModel",
     "state": {
      "_model_module": "@jupyter-widgets/base",
      "_model_module_version": "2.0.0",
      "_model_name": "LayoutModel",
      "_view_count": null,
      "_view_module": "@jupyter-widgets/base",
      "_view_module_version": "2.0.0",
      "_view_name": "LayoutView",
      "align_content": null,
      "align_items": null,
      "align_self": null,
      "border_bottom": null,
      "border_left": null,
      "border_right": null,
      "border_top": null,
      "bottom": null,
      "display": null,
      "flex": null,
      "flex_flow": null,
      "grid_area": null,
      "grid_auto_columns": null,
      "grid_auto_flow": null,
      "grid_auto_rows": null,
      "grid_column": null,
      "grid_gap": null,
      "grid_row": null,
      "grid_template_areas": null,
      "grid_template_columns": null,
      "grid_template_rows": null,
      "height": null,
      "justify_content": null,
      "justify_items": null,
      "left": null,
      "margin": null,
      "max_height": null,
      "max_width": null,
      "min_height": null,
      "min_width": null,
      "object_fit": null,
      "object_position": null,
      "order": null,
      "overflow": null,
      "padding": null,
      "right": null,
      "top": null,
      "visibility": null,
      "width": null
     }
    },
    "a4c07686ee7047d6a428b2a60d42216b": {
     "model_module": "@jupyter-widgets/base",
     "model_module_version": "2.0.0",
     "model_name": "LayoutModel",
     "state": {
      "_model_module": "@jupyter-widgets/base",
      "_model_module_version": "2.0.0",
      "_model_name": "LayoutModel",
      "_view_count": null,
      "_view_module": "@jupyter-widgets/base",
      "_view_module_version": "2.0.0",
      "_view_name": "LayoutView",
      "align_content": null,
      "align_items": null,
      "align_self": null,
      "border_bottom": null,
      "border_left": null,
      "border_right": null,
      "border_top": null,
      "bottom": null,
      "display": null,
      "flex": null,
      "flex_flow": null,
      "grid_area": null,
      "grid_auto_columns": null,
      "grid_auto_flow": null,
      "grid_auto_rows": null,
      "grid_column": null,
      "grid_gap": null,
      "grid_row": null,
      "grid_template_areas": null,
      "grid_template_columns": null,
      "grid_template_rows": null,
      "height": null,
      "justify_content": null,
      "justify_items": null,
      "left": null,
      "margin": null,
      "max_height": null,
      "max_width": null,
      "min_height": null,
      "min_width": null,
      "object_fit": null,
      "object_position": null,
      "order": null,
      "overflow": null,
      "padding": null,
      "right": null,
      "top": null,
      "visibility": null,
      "width": null
     }
    },
    "a6d088ca4d4d42f29bd537af8b72b728": {
     "model_module": "@jupyter-widgets/base",
     "model_module_version": "2.0.0",
     "model_name": "LayoutModel",
     "state": {
      "_model_module": "@jupyter-widgets/base",
      "_model_module_version": "2.0.0",
      "_model_name": "LayoutModel",
      "_view_count": null,
      "_view_module": "@jupyter-widgets/base",
      "_view_module_version": "2.0.0",
      "_view_name": "LayoutView",
      "align_content": null,
      "align_items": null,
      "align_self": null,
      "border_bottom": null,
      "border_left": null,
      "border_right": null,
      "border_top": null,
      "bottom": null,
      "display": null,
      "flex": null,
      "flex_flow": null,
      "grid_area": null,
      "grid_auto_columns": null,
      "grid_auto_flow": null,
      "grid_auto_rows": null,
      "grid_column": null,
      "grid_gap": null,
      "grid_row": null,
      "grid_template_areas": null,
      "grid_template_columns": null,
      "grid_template_rows": null,
      "height": null,
      "justify_content": null,
      "justify_items": null,
      "left": null,
      "margin": null,
      "max_height": null,
      "max_width": null,
      "min_height": null,
      "min_width": null,
      "object_fit": null,
      "object_position": null,
      "order": null,
      "overflow": null,
      "padding": null,
      "right": null,
      "top": null,
      "visibility": null,
      "width": null
     }
    },
    "a945929aac9f42c68aabcffbd1b4ac10": {
     "model_module": "@jupyter-widgets/controls",
     "model_module_version": "2.0.0",
     "model_name": "ProgressStyleModel",
     "state": {
      "_model_module": "@jupyter-widgets/controls",
      "_model_module_version": "2.0.0",
      "_model_name": "ProgressStyleModel",
      "_view_count": null,
      "_view_module": "@jupyter-widgets/base",
      "_view_module_version": "2.0.0",
      "_view_name": "StyleView",
      "bar_color": null,
      "description_width": ""
     }
    },
    "aa47228769244db88334d6df8f5180f0": {
     "model_module": "@jupyter-widgets/base",
     "model_module_version": "2.0.0",
     "model_name": "LayoutModel",
     "state": {
      "_model_module": "@jupyter-widgets/base",
      "_model_module_version": "2.0.0",
      "_model_name": "LayoutModel",
      "_view_count": null,
      "_view_module": "@jupyter-widgets/base",
      "_view_module_version": "2.0.0",
      "_view_name": "LayoutView",
      "align_content": null,
      "align_items": null,
      "align_self": null,
      "border_bottom": null,
      "border_left": null,
      "border_right": null,
      "border_top": null,
      "bottom": null,
      "display": null,
      "flex": null,
      "flex_flow": null,
      "grid_area": null,
      "grid_auto_columns": null,
      "grid_auto_flow": null,
      "grid_auto_rows": null,
      "grid_column": null,
      "grid_gap": null,
      "grid_row": null,
      "grid_template_areas": null,
      "grid_template_columns": null,
      "grid_template_rows": null,
      "height": null,
      "justify_content": null,
      "justify_items": null,
      "left": null,
      "margin": null,
      "max_height": null,
      "max_width": null,
      "min_height": null,
      "min_width": null,
      "object_fit": null,
      "object_position": null,
      "order": null,
      "overflow": null,
      "padding": null,
      "right": null,
      "top": null,
      "visibility": null,
      "width": null
     }
    },
    "adea564cbcc040bbb2d4e636750c481f": {
     "model_module": "@jupyter-widgets/controls",
     "model_module_version": "2.0.0",
     "model_name": "HTMLStyleModel",
     "state": {
      "_model_module": "@jupyter-widgets/controls",
      "_model_module_version": "2.0.0",
      "_model_name": "HTMLStyleModel",
      "_view_count": null,
      "_view_module": "@jupyter-widgets/base",
      "_view_module_version": "2.0.0",
      "_view_name": "StyleView",
      "background": null,
      "description_width": "",
      "font_size": null,
      "text_color": null
     }
    },
    "b33acc30e5e9461592479b2c4db33fa5": {
     "model_module": "@jupyter-widgets/controls",
     "model_module_version": "2.0.0",
     "model_name": "HTMLModel",
     "state": {
      "_dom_classes": [],
      "_model_module": "@jupyter-widgets/controls",
      "_model_module_version": "2.0.0",
      "_model_name": "HTMLModel",
      "_view_count": null,
      "_view_module": "@jupyter-widgets/controls",
      "_view_module_version": "2.0.0",
      "_view_name": "HTMLView",
      "description": "",
      "description_allow_html": false,
      "layout": "IPY_MODEL_7545abd2e1e64607a25408c980216d74",
      "placeholder": "​",
      "style": "IPY_MODEL_c5cbdcc8acb84a769d22078100a2d366",
      "tabbable": null,
      "tooltip": null,
      "value": " 26421880/26421880 [00:03&lt;00:00, 13513490.59it/s]"
     }
    },
    "b8411a401dee4420a74fc2bb2c0ed74e": {
     "model_module": "@jupyter-widgets/base",
     "model_module_version": "2.0.0",
     "model_name": "LayoutModel",
     "state": {
      "_model_module": "@jupyter-widgets/base",
      "_model_module_version": "2.0.0",
      "_model_name": "LayoutModel",
      "_view_count": null,
      "_view_module": "@jupyter-widgets/base",
      "_view_module_version": "2.0.0",
      "_view_name": "LayoutView",
      "align_content": null,
      "align_items": null,
      "align_self": null,
      "border_bottom": null,
      "border_left": null,
      "border_right": null,
      "border_top": null,
      "bottom": null,
      "display": null,
      "flex": null,
      "flex_flow": null,
      "grid_area": null,
      "grid_auto_columns": null,
      "grid_auto_flow": null,
      "grid_auto_rows": null,
      "grid_column": null,
      "grid_gap": null,
      "grid_row": null,
      "grid_template_areas": null,
      "grid_template_columns": null,
      "grid_template_rows": null,
      "height": null,
      "justify_content": null,
      "justify_items": null,
      "left": null,
      "margin": null,
      "max_height": null,
      "max_width": null,
      "min_height": null,
      "min_width": null,
      "object_fit": null,
      "object_position": null,
      "order": null,
      "overflow": null,
      "padding": null,
      "right": null,
      "top": null,
      "visibility": null,
      "width": null
     }
    },
    "bde354e651114071a234322b47746e81": {
     "model_module": "@jupyter-widgets/controls",
     "model_module_version": "2.0.0",
     "model_name": "HTMLModel",
     "state": {
      "_dom_classes": [],
      "_model_module": "@jupyter-widgets/controls",
      "_model_module_version": "2.0.0",
      "_model_name": "HTMLModel",
      "_view_count": null,
      "_view_module": "@jupyter-widgets/controls",
      "_view_module_version": "2.0.0",
      "_view_name": "HTMLView",
      "description": "",
      "description_allow_html": false,
      "layout": "IPY_MODEL_4de939ec73ee4c4b902280b75777c1fb",
      "placeholder": "​",
      "style": "IPY_MODEL_554311ea0e9444fa9fa8ac3445b254e4",
      "tabbable": null,
      "tooltip": null,
      "value": " 5148/5148 [00:00&lt;00:00, 48766.68it/s]"
     }
    },
    "c5cbdcc8acb84a769d22078100a2d366": {
     "model_module": "@jupyter-widgets/controls",
     "model_module_version": "2.0.0",
     "model_name": "HTMLStyleModel",
     "state": {
      "_model_module": "@jupyter-widgets/controls",
      "_model_module_version": "2.0.0",
      "_model_name": "HTMLStyleModel",
      "_view_count": null,
      "_view_module": "@jupyter-widgets/base",
      "_view_module_version": "2.0.0",
      "_view_name": "StyleView",
      "background": null,
      "description_width": "",
      "font_size": null,
      "text_color": null
     }
    },
    "c97e5a63b76d44de82ab5f55cb1bbcf0": {
     "model_module": "@jupyter-widgets/base",
     "model_module_version": "2.0.0",
     "model_name": "LayoutModel",
     "state": {
      "_model_module": "@jupyter-widgets/base",
      "_model_module_version": "2.0.0",
      "_model_name": "LayoutModel",
      "_view_count": null,
      "_view_module": "@jupyter-widgets/base",
      "_view_module_version": "2.0.0",
      "_view_name": "LayoutView",
      "align_content": null,
      "align_items": null,
      "align_self": null,
      "border_bottom": null,
      "border_left": null,
      "border_right": null,
      "border_top": null,
      "bottom": null,
      "display": null,
      "flex": null,
      "flex_flow": null,
      "grid_area": null,
      "grid_auto_columns": null,
      "grid_auto_flow": null,
      "grid_auto_rows": null,
      "grid_column": null,
      "grid_gap": null,
      "grid_row": null,
      "grid_template_areas": null,
      "grid_template_columns": null,
      "grid_template_rows": null,
      "height": null,
      "justify_content": null,
      "justify_items": null,
      "left": null,
      "margin": null,
      "max_height": null,
      "max_width": null,
      "min_height": null,
      "min_width": null,
      "object_fit": null,
      "object_position": null,
      "order": null,
      "overflow": null,
      "padding": null,
      "right": null,
      "top": null,
      "visibility": null,
      "width": null
     }
    },
    "cde0f53296cf43ef9486c28bf01480c9": {
     "model_module": "@jupyter-widgets/controls",
     "model_module_version": "2.0.0",
     "model_name": "HTMLStyleModel",
     "state": {
      "_model_module": "@jupyter-widgets/controls",
      "_model_module_version": "2.0.0",
      "_model_name": "HTMLStyleModel",
      "_view_count": null,
      "_view_module": "@jupyter-widgets/base",
      "_view_module_version": "2.0.0",
      "_view_name": "StyleView",
      "background": null,
      "description_width": "",
      "font_size": null,
      "text_color": null
     }
    },
    "cde4eda0cd7e4e70ba3a7170131766d0": {
     "model_module": "@jupyter-widgets/controls",
     "model_module_version": "2.0.0",
     "model_name": "HTMLModel",
     "state": {
      "_dom_classes": [],
      "_model_module": "@jupyter-widgets/controls",
      "_model_module_version": "2.0.0",
      "_model_name": "HTMLModel",
      "_view_count": null,
      "_view_module": "@jupyter-widgets/controls",
      "_view_module_version": "2.0.0",
      "_view_name": "HTMLView",
      "description": "",
      "description_allow_html": false,
      "layout": "IPY_MODEL_7cd6a7e1f8d044048a0f847a91f1cfbf",
      "placeholder": "​",
      "style": "IPY_MODEL_adea564cbcc040bbb2d4e636750c481f",
      "tabbable": null,
      "tooltip": null,
      "value": "100%"
     }
    },
    "d37ef25b55994d0ca9dd2261fea31ee3": {
     "model_module": "@jupyter-widgets/controls",
     "model_module_version": "2.0.0",
     "model_name": "ProgressStyleModel",
     "state": {
      "_model_module": "@jupyter-widgets/controls",
      "_model_module_version": "2.0.0",
      "_model_name": "ProgressStyleModel",
      "_view_count": null,
      "_view_module": "@jupyter-widgets/base",
      "_view_module_version": "2.0.0",
      "_view_name": "StyleView",
      "bar_color": null,
      "description_width": ""
     }
    },
    "d9209d782b9744b491ff439df74d4e8b": {
     "model_module": "@jupyter-widgets/controls",
     "model_module_version": "2.0.0",
     "model_name": "HTMLStyleModel",
     "state": {
      "_model_module": "@jupyter-widgets/controls",
      "_model_module_version": "2.0.0",
      "_model_name": "HTMLStyleModel",
      "_view_count": null,
      "_view_module": "@jupyter-widgets/base",
      "_view_module_version": "2.0.0",
      "_view_name": "StyleView",
      "background": null,
      "description_width": "",
      "font_size": null,
      "text_color": null
     }
    },
    "eb250d8679a44d26bcd904808074e974": {
     "model_module": "@jupyter-widgets/base",
     "model_module_version": "2.0.0",
     "model_name": "LayoutModel",
     "state": {
      "_model_module": "@jupyter-widgets/base",
      "_model_module_version": "2.0.0",
      "_model_name": "LayoutModel",
      "_view_count": null,
      "_view_module": "@jupyter-widgets/base",
      "_view_module_version": "2.0.0",
      "_view_name": "LayoutView",
      "align_content": null,
      "align_items": null,
      "align_self": null,
      "border_bottom": null,
      "border_left": null,
      "border_right": null,
      "border_top": null,
      "bottom": null,
      "display": null,
      "flex": null,
      "flex_flow": null,
      "grid_area": null,
      "grid_auto_columns": null,
      "grid_auto_flow": null,
      "grid_auto_rows": null,
      "grid_column": null,
      "grid_gap": null,
      "grid_row": null,
      "grid_template_areas": null,
      "grid_template_columns": null,
      "grid_template_rows": null,
      "height": null,
      "justify_content": null,
      "justify_items": null,
      "left": null,
      "margin": null,
      "max_height": null,
      "max_width": null,
      "min_height": null,
      "min_width": null,
      "object_fit": null,
      "object_position": null,
      "order": null,
      "overflow": null,
      "padding": null,
      "right": null,
      "top": null,
      "visibility": null,
      "width": null
     }
    },
    "f3d16fe14ce547cb97bb62186a137674": {
     "model_module": "@jupyter-widgets/base",
     "model_module_version": "2.0.0",
     "model_name": "LayoutModel",
     "state": {
      "_model_module": "@jupyter-widgets/base",
      "_model_module_version": "2.0.0",
      "_model_name": "LayoutModel",
      "_view_count": null,
      "_view_module": "@jupyter-widgets/base",
      "_view_module_version": "2.0.0",
      "_view_name": "LayoutView",
      "align_content": null,
      "align_items": null,
      "align_self": null,
      "border_bottom": null,
      "border_left": null,
      "border_right": null,
      "border_top": null,
      "bottom": null,
      "display": null,
      "flex": null,
      "flex_flow": null,
      "grid_area": null,
      "grid_auto_columns": null,
      "grid_auto_flow": null,
      "grid_auto_rows": null,
      "grid_column": null,
      "grid_gap": null,
      "grid_row": null,
      "grid_template_areas": null,
      "grid_template_columns": null,
      "grid_template_rows": null,
      "height": null,
      "justify_content": null,
      "justify_items": null,
      "left": null,
      "margin": null,
      "max_height": null,
      "max_width": null,
      "min_height": null,
      "min_width": null,
      "object_fit": null,
      "object_position": null,
      "order": null,
      "overflow": null,
      "padding": null,
      "right": null,
      "top": null,
      "visibility": null,
      "width": null
     }
    }
   }
  }
 },
 "nbformat": 4,
 "nbformat_minor": 1
}
